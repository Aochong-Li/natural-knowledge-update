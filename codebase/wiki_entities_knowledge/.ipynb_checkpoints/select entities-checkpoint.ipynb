{
 "cells": [
  {
   "cell_type": "code",
   "execution_count": 2,
   "id": "72561e0c",
   "metadata": {},
   "outputs": [],
   "source": [
    "import pandas as pd\n",
    "import os\n",
    "import sys\n",
    "import json\n",
    "from datasets import load_dataset\n",
    "import random\n",
    "sys.path.insert(0, '/home/al2644/research/')"
   ]
  },
  {
   "cell_type": "markdown",
   "id": "b0f1cea5",
   "metadata": {},
   "source": [
    "# Examples"
   ]
  },
  {
   "cell_type": "code",
   "execution_count": 9,
   "id": "c57c3402",
   "metadata": {},
   "outputs": [],
   "source": [
    "root = '/share/goyal/lio/knowledge_update/wikipedia/20231101.en'\n",
    "example_df = pd.read_excel(os.path.join(root, 'excel/sample=300_annotated.xlsx'), engine = 'openpyxl')"
   ]
  },
  {
   "cell_type": "code",
   "execution_count": 13,
   "id": "9f559f84",
   "metadata": {},
   "outputs": [],
   "source": [
    "examples = example_df.drop_duplicates(subset=['Reason'])"
   ]
  },
  {
   "cell_type": "markdown",
   "id": "45af3001",
   "metadata": {},
   "source": [
    "# Input Data"
   ]
  },
  {
   "cell_type": "code",
   "execution_count": 3,
   "id": "74a90e3d",
   "metadata": {},
   "outputs": [],
   "source": [
    "from codebase.wiki_entities_knowledge.PopQA.filter_entities import *"
   ]
  },
  {
   "cell_type": "code",
   "execution_count": 4,
   "id": "9921c999",
   "metadata": {},
   "outputs": [],
   "source": [
    "filename = 'model=meta-llama_Llama-2-7b-chat-hf-input=llama2_7b-method=vanilla-shots=15-n=14267.csv'\n",
    "popqa_df = load_input_df(filename)"
   ]
  },
  {
   "cell_type": "code",
   "execution_count": 5,
   "id": "956ecbcc",
   "metadata": {
    "scrolled": true
   },
   "outputs": [],
   "source": [
    "input_df = pd.read_csv(os.path.join(ROOT_PATH, 'model=meta-llama_Llama-2-7b-chat-hf-input=llama2_7b-method=vanilla-shots=15-n=14267.csv')).drop(columns = 'Unnamed: 0')"
   ]
  },
  {
   "cell_type": "code",
   "execution_count": 6,
   "id": "e82d29ae",
   "metadata": {
    "scrolled": true
   },
   "outputs": [],
   "source": [
    "root = '/share/goyal/lio/knowledge_update/wikipedia/PopQA'\n",
    "filename = 'step0_input.pickle'\n",
    "step0_input_df = pd.read_pickle(os.path.join(root, filename))"
   ]
  },
  {
   "cell_type": "code",
   "execution_count": 23,
   "id": "2a24ef56",
   "metadata": {
    "scrolled": true
   },
   "outputs": [
    {
     "data": {
      "text/plain": [
       "'Alabama ( AL-ə-BAM-ə) is a state in the Southeastern region of the United States. It borders Tennessee to the north, Georgia to the east, Florida and the Gulf of Mexico to the south, and Mississippi to the west. Alabama is the 30th largest by area an'"
      ]
     },
     "execution_count": 23,
     "metadata": {},
     "output_type": "execute_result"
    }
   ],
   "source": [
    "step0_input_df['wiki_summary'] = step0_input_df['wiki_summary'].str[:250]"
   ]
  },
  {
   "cell_type": "markdown",
   "id": "e7b80e3a",
   "metadata": {},
   "source": [
    "# Select Entities"
   ]
  },
  {
   "cell_type": "code",
   "execution_count": 8,
   "id": "f4f025cc",
   "metadata": {},
   "outputs": [],
   "source": [
    "io_root = '/home/al2644/research/openai_batch_io/wikientities/'\n",
    "root = '/share/goyal/lio/knowledge_update/wikipedia/PopQA'"
   ]
  },
  {
   "cell_type": "code",
   "execution_count": 11,
   "id": "64fb0f5c",
   "metadata": {},
   "outputs": [],
   "source": [
    "'''Change Here'''\n",
    "dataname = 'popqa_step0'\n",
    "\n",
    "input_filename = f'{dataname}_input.jsonl'\n",
    "batch_log_filename = f'{dataname}_batch_log.json'\n",
    "cache_filename = f'step0_output.pickle'"
   ]
  },
  {
   "cell_type": "code",
   "execution_count": 10,
   "id": "a9faed05",
   "metadata": {},
   "outputs": [],
   "source": [
    "from codebase.wiki_entities_knowledge.PopQA import step0_select_entities\n",
    "import openaiAPI"
   ]
  },
  {
   "cell_type": "code",
   "execution_count": 1,
   "id": "55daee1d",
   "metadata": {
    "scrolled": true
   },
   "outputs": [],
   "source": [
    "step0_output_df = step0_select_entities.select_entities(df = step0_input_df,\n",
    "                                            max_tokens=512, batch_size=20,\n",
    "                                            input_filepath=os.path.join(io_root, input_filename),\n",
    "                                            batch_log_filepath=os.path.join(io_root, batch_log_filename),\n",
    "                                            mode='batch_stream'\n",
    "                                            )"
   ]
  },
  {
   "cell_type": "code",
   "execution_count": 12,
   "id": "59566fa3",
   "metadata": {
    "scrolled": true
   },
   "outputs": [
    {
     "name": "stdout",
     "output_type": "stream",
     "text": [
      "Batch log status: completed\n",
      "Batch log status: completed\n",
      "Batch log status: completed\n",
      "Batch log status: completed\n",
      "Batch log status: completed\n",
      "Batch log status: completed\n",
      "Batch log status: completed\n",
      "Batch log status: completed\n",
      "Batch log status: completed\n",
      "Batch log status: completed\n",
      "Batch log status: completed\n",
      "Batch log status: completed\n",
      "Batch log status: completed\n",
      "Batch log status: completed\n",
      "Batch log status: completed\n",
      "Batch log status: completed\n",
      "Batch log status: completed\n",
      "Batch log status: completed\n",
      "Batch log status: completed\n",
      "Batch log status: completed\n",
      "Batch log status: completed\n",
      "Batch log status: completed\n",
      "Batch log status: completed\n",
      "Batch log status: completed\n",
      "Batch log status: completed\n",
      "Batch log status: completed\n",
      "Batch log status: completed\n",
      "Batch log status: completed\n",
      "Batch log status: completed\n",
      "Batch log status: completed\n",
      "Batch log status: completed\n",
      "Batch log status: completed\n",
      "Batch log status: completed\n",
      "Batch log status: completed\n",
      "Batch log status: completed\n",
      "Batch log status: completed\n",
      "Batch log status: completed\n",
      "Batch log status: completed\n",
      "Batch log status: completed\n",
      "Batch log status: completed\n",
      "Batch log status: completed\n",
      "Batch log status: completed\n",
      "Batch log status: completed\n",
      "Batch log status: completed\n",
      "Batch log status: completed\n",
      "Batch log status: completed\n",
      "Batch log status: completed\n",
      "Batch log status: completed\n",
      "Batch log status: completed\n",
      "Batch log status: completed\n",
      "Batch log status: completed\n",
      "Batch log status: completed\n",
      "Batch log status: completed\n",
      "Batch log status: completed\n",
      "Batch log status: completed\n",
      "Batch log status: completed\n",
      "Batch log status: completed\n",
      "Batch log status: completed\n",
      "Batch log status: completed\n",
      "Batch log status: completed\n",
      "Batch log status: completed\n",
      "Batch log status: completed\n",
      "Batch log status: completed\n",
      "Batch log status: completed\n",
      "Batch log status: completed\n",
      "Batch log status: completed\n",
      "Batch log status: completed\n",
      "Batch log status: completed\n",
      "Batch log status: completed\n",
      "Batch log status: completed\n",
      "Batch log status: completed\n",
      "Batch log status: completed\n",
      "Batch log status: completed\n",
      "Batch log status: completed\n",
      "Batch log status: completed\n",
      "Batch log status: completed\n",
      "Batch log status: completed\n",
      "Batch log status: completed\n",
      "Batch log status: completed\n",
      "Batch log status: completed\n",
      "Batch log status: completed\n",
      "Batch log status: completed\n",
      "Batch log status: completed\n",
      "Batch log status: completed\n",
      "Batch log status: completed\n",
      "Batch log status: completed\n",
      "Batch log status: completed\n",
      "Batch log status: completed\n",
      "Batch log status: completed\n",
      "Batch log status: completed\n",
      "Batch log status: completed\n",
      "Batch log status: completed\n",
      "Batch log status: completed\n",
      "Batch log status: completed\n",
      "Batch log status: completed\n",
      "Batch log status: completed\n",
      "Batch log status: completed\n",
      "Batch log status: completed\n",
      "Batch log status: completed\n",
      "Batch log status: completed\n",
      "Batch log status: completed\n",
      "Batch log status: completed\n",
      "Batch log status: completed\n",
      "Batch log status: completed\n",
      "Batch log status: completed\n",
      "Batch log status: completed\n",
      "Batch log status: completed\n",
      "Batch log status: completed\n",
      "Batch log status: completed\n",
      "Batch log status: completed\n",
      "Batch log status: completed\n",
      "Batch log status: completed\n",
      "Batch log status: completed\n",
      "Batch log status: completed\n",
      "Batch log status: completed\n",
      "Batch log status: completed\n",
      "Batch log status: completed\n",
      "Batch log status: completed\n",
      "Batch log status: completed\n",
      "Batch log status: completed\n",
      "Batch log status: completed\n",
      "Batch log status: completed\n",
      "Batch log status: completed\n",
      "Batch log status: completed\n",
      "Batch log status: completed\n",
      "Batch log status: completed\n",
      "Batch log status: completed\n",
      "Batch log status: completed\n",
      "Batch log status: completed\n",
      "Batch log status: completed\n",
      "Batch log status: completed\n",
      "Batch log status: completed\n",
      "Batch log status: completed\n",
      "Batch log status: completed\n",
      "Batch log status: completed\n",
      "Batch log status: completed\n",
      "Batch log status: completed\n",
      "Batch log status: completed\n",
      "Retrieving output file-SeeWeM8XZJjToMyaZrjTJi56\n",
      "Retrieving output file-i4EIpYAAPjl0vWulOdYP0Twf\n",
      "Retrieving output file-3JJ10Pj0Z94W4KCqQJFgu0Xt\n",
      "Retrieving output file-7N0Q5A0dUKVdSMGZBKswLi6n\n",
      "Retrieving output file-dGCSL5TBbs4BbKs403pTN4L2\n",
      "Retrieving output file-UOJsiSerRy37IVFVn0iXpZwQ\n",
      "Retrieving output file-akGM8jAOVDwZ4BA4TqoMFEoM\n",
      "Retrieving output file-uHWFUiCH9P0xobDrFaNLKmme\n",
      "Retrieving output file-JuCNDDIhHMAAHS00xk8fwGFn\n",
      "Retrieving output file-Sp7I6jrvvA8q3nquh4iJA9G7\n",
      "Retrieving output file-OEOFdS8AdCXSgOqFHuZFnzAy\n",
      "Retrieving output file-AZVqwLH8N2wFjjQ9HZ86Pz9K\n",
      "Retrieving output file-bnCzpQ3wsRqmQW71JNl4BVG3\n",
      "Retrieving output file-uHYyxTFCgNfKOSM8nWjE0E4A\n",
      "Retrieving output file-rEFDyeoFevWCnlTaVnubaSdh\n",
      "Retrieving output file-471xb5pLwSKx3Ka9uKDrZLlT\n",
      "Retrieving output file-eGeeTQ1RhXqRwawC6Fqo3ssH\n",
      "Retrieving output file-3dIXWNIEbVyGKBC9g87nkP3p\n",
      "Retrieving output file-hkShprUXAymKfjPzvmE0qKC2\n",
      "Retrieving output file-cZq7D7hks6f57pleWHrj9ZIt\n",
      "Retrieving output file-WU1cyjAnqt9CzHTfWBmBiQdE\n",
      "Retrieving output file-dX0ESQzaWEye2IkRlyk0jWzc\n",
      "Retrieving output file-gPRTyCbktWKCoeyEyrI5HLl8\n",
      "Retrieving output file-WusWo9ebFUc94I0cp3x6mvJ5\n",
      "Retrieving output file-K6eiHyG8o7j5RT3favVwK19V\n",
      "Retrieving output file-uUvh0pII7UtydK1TYgArPGA4\n",
      "Retrieving output file-AVHo2Ifd1xBpyKkb7uIJYpc2\n",
      "Retrieving output file-1KJZLQ7fG3InCUoXuki0ywx0\n",
      "Retrieving output file-3Aq2nOExHwAqcp5TZtp52Lld\n",
      "Retrieving output file-DzTcn72OmtRwA42hyxy24UHd\n",
      "Retrieving output file-pXVyVKsDKb5pYvpRXksKirTO\n",
      "Retrieving output file-eKh9Ru0vgCAMaJa8Ctqp8oL2\n",
      "Retrieving output file-Ud0h5aswPsygPD4cn8O5PPtb\n",
      "Retrieving output file-4yYCKqBo9hd1ypzKalDAugNn\n",
      "Retrieving output file-7V80v6eTgCptL1jw1m2Cqyk1\n",
      "Retrieving output file-BxpGagdzRbwERwx7nWHGEntk\n",
      "Retrieving output file-JvHjj2fDkb26DZ7Sgbc9JgsS\n",
      "Retrieving output file-4zrzylN28ExWddHFRgZAu1Zs\n",
      "Retrieving output file-KpR69ffwncdVLcth762m8m7o\n",
      "Retrieving output file-Ac3HZKrBTkQR5dWHTackMn1G\n",
      "Retrieving output file-4x1g0j2Hc8RpN9Bt3EsYg3Ec\n",
      "Retrieving output file-r6YuGg6a2J5Fht3RY3T31F2X\n",
      "Retrieving output file-JjvjazPeJ5NUyEb1E0znEeNp\n",
      "Retrieving output file-kTcWkLe3XzGNRJZwSOMrRtmO\n",
      "Retrieving output file-VSuDR07eQxmoiVYNyhtU5UrJ\n",
      "Retrieving output file-nbMewFVssUi1DwfFEQ42riHo\n",
      "Retrieving output file-JchOvHBbRggAk96hDRlLZpJx\n",
      "Retrieving output file-iSYhaniLP3smTqQq9BwoeRRz\n",
      "Retrieving output file-q9ExzDKY53VnwenPwPEFmg08\n",
      "Retrieving output file-ZTQaG1WT1ETeNcbvlFJwEpYl\n",
      "Retrieving output file-GPUUZuIqTn8BhYRX9f1vUJBx\n",
      "Retrieving output file-0bOAisINTDpPLOKL8Z5TrZGX\n",
      "Retrieving output file-533RtToS95Sc7CrBa8UrJwtN\n",
      "Retrieving output file-jwkZEDRuQeT0AFeYg2cTncmh\n",
      "Retrieving output file-E6wSDCv1vmLROHAJ9mrLIJ2b\n",
      "Retrieving output file-uuhrJejUvSypwKX3zWUtQ3FS\n",
      "Retrieving output file-btrL4BkP5ozDUZZiUPXZS2Fa\n",
      "Retrieving output file-WwMQm2RnYpAeq2mtwlbBPwY8\n",
      "Retrieving output file-dVGlKI3736SgF77tmhEsBtgz\n",
      "Retrieving output file-60xNrL0SKDbvjZ15dVGH3JEz\n",
      "Retrieving output file-UN82EBxCTDlS6RK7JLF09qWW\n",
      "Retrieving output file-9jTLhkq3uQEM7U18dhqa66Tj\n",
      "Retrieving output file-bjByAUvPNTyYl7UZXm7BkQC6\n",
      "Retrieving output file-IiiJzgPfuk74QLXV0mClIWqm\n",
      "Retrieving output file-EtKznFbY8GY8l5g15qSiAlCf\n",
      "Retrieving output file-VlBUyRwFgNfJg00xSMjH2HTz\n",
      "Retrieving output file-tSOZbazBZ8NXowutvod1itCW\n",
      "Retrieving output file-MxeBYJ1AlRgdjq2IBYgpmFVm\n",
      "Retrieving output file-u9IsNrnWV4Xuz8mz0jxPZ251\n",
      "Retrieving output file-ljtlxvLmEwlDV39jrbBmWVyU\n",
      "Retrieving output file-gf35i3ycCmbR3pixSCLuTDts\n",
      "Retrieving output file-OlRQt0ZWgCSelercdU772qlF\n",
      "Retrieving output file-PGKSpwVg51JgmBQyvPyyIQDi\n",
      "Retrieving output file-OV1YvNpiuZP8NjU0QM3uDARH\n",
      "Retrieving output file-LpJHOnykQslWIyf7moMEbdLc\n",
      "Retrieving output file-SebahAdEZSZwmBPzIIchanPB\n",
      "Retrieving output file-5pSHJ0SWb8dIyBj87UiGLOsB\n",
      "Retrieving output file-paTqMB3oZrAPIl5tnSbvbe5G\n",
      "Retrieving output file-3zm43aKsxEFnTrxJGAfVluLp\n",
      "Retrieving output file-BCn2tSC8VXnpeb8nha5pduHe\n",
      "Retrieving output file-NRYtD61gSOdslTWKRgCQ4z7o\n",
      "Retrieving output file-MIyCJ8RNxiTsuhaUoGpgsU7b\n",
      "Retrieving output file-xJcy7aIDq4r5HJGUgyHjj3X0\n",
      "Retrieving output file-Py1kfKCv39AJTY7XmxUJnAaS\n",
      "Retrieving output file-yG9HVzyvtqxqrURLy1wDPaK3\n",
      "Retrieving output file-VzTucGtcpXE8zQ4Boe9VeRhO\n",
      "Retrieving output file-c4Yz4A97aye0QiOqg8UdBqFf\n",
      "Retrieving output file-1tHPqkDG6p3p0ZietxCST74I\n",
      "Retrieving output file-3Y5LSggvofrsJJzrIFgijJqP\n",
      "Retrieving output file-v32cAHdybzCY9t39BYGMhSwF\n",
      "Retrieving output file-8I6IXZmtAMpU3R1NsnX2rmfb\n"
     ]
    },
    {
     "name": "stdout",
     "output_type": "stream",
     "text": [
      "Retrieving output file-NbmNg0Dsyp3i2uOSudm4fV22\n",
      "Retrieving output file-lkS08b8SN3ioFiTsPIWZMx7j\n",
      "Retrieving output file-nRkpxcfnxhbjQvPeNqFzGdAZ\n",
      "Retrieving output file-nJ3RsFUyKXXAJ48hlxRH4keh\n",
      "Retrieving output file-FhWXocbY30myL0Zl3zP2WcwZ\n",
      "Retrieving output file-RhY1R6qCUqXa7qZmw1cemW0L\n",
      "Retrieving output file-ycF5OAd6LQDPPcFueFqBHCsl\n",
      "Retrieving output file-pYIRoRv4gYvWSGQ5SXcouRbg\n",
      "Retrieving output file-72ftByEBL67msZHBB7MFAv3X\n",
      "Retrieving output file-dBmfRseeg3ifC5nPRBex2kTk\n",
      "Retrieving output file-5xcRDzXWvtbEt5oehFsAa6LL\n",
      "Retrieving output file-Txt7JBsM7YKrQZ5vvxGjJwNM\n",
      "Retrieving output file-mO0gX8ZEQcR6CDkWyUkbazv9\n",
      "Retrieving output file-G8PF41I4f68hrsFWLXn600au\n",
      "Retrieving output file-hmCEE8Kkpap4uNGU4YIgLnKx\n",
      "Retrieving output file-DZC75ck2B6Qjh0KD6r2qHQcL\n",
      "Retrieving output file-Qpr1vdmwck4nv4gJ7GZvpwQ3\n",
      "Retrieving output file-kOZMDHFNT57n0X32xufONH74\n",
      "Retrieving output file-dCgCdvZc8jHWYzxcZc0K6Erv\n",
      "Retrieving output file-rvLkrAy15MNP21c2bJlJVuBQ\n",
      "Retrieving output file-valgBpMV7K6J3G5DiLgLSKOY\n",
      "Retrieving output file-OecggdT9wCcdYEtPeDfU31KV\n",
      "Retrieving output file-y8SHsm7GcU7P84vroQWiWQO1\n",
      "Retrieving output file-IjpR1f0IWuganDUpcB13KKMm\n",
      "Retrieving output file-hF48WfIfIudSFShZTBGHsIIN\n",
      "Retrieving output file-evl2GEgh4OM3nJO0aQtUmM9Q\n",
      "Retrieving output file-ocX3MydKYFy02ygNnRowsmG1\n",
      "Retrieving output file-UnDJ7BTugZ9wElIB7do0GnYW\n",
      "Retrieving output file-ZmzzmlhxC7j9CSa5sHmLC9eu\n",
      "Retrieving output file-uIfg7Y4ZedF6nkZhpV87iIEC\n",
      "Retrieving output file-3rtZ8KXdW3qS5GbzPmn2OJr9\n",
      "Retrieving output file-MPwiwsN4omGOKyWVs9MvWNe1\n",
      "Retrieving output file-I4oXBZuirrMdLnV7avU6jJOG\n",
      "Retrieving output file-4LTdV4XhK0QipK1dedx5co30\n",
      "Retrieving output file-fKGKBII8bDubjv31uhJ13bOI\n",
      "Retrieving output file-wlaaPsHN8j8WMUgu7IJFyDZF\n",
      "Retrieving output file-YgvNYUg21lhmfD9wmcBPz5D2\n",
      "Retrieving output file-D3SXQQ3YJJKoeXubv0qissoI\n",
      "Retrieving output file-cGowRJIqDtVVmoRTYOBs5t7F\n",
      "Retrieving output file-sdtmzsN0mUqb3xCorvm56mmL\n",
      "Retrieving output file-xShyVVFL7jJFoqlqXbvBhlRm\n",
      "Retrieving output file-7mTa04fd6P5UxY0pbqp3KUzg\n",
      "Retrieving output file-OAPB4KOY3YKFl5as9ItcGL1V\n",
      "Retrieving output file-1Tc3lsvtEjqbVIseRQBw4GE6\n",
      "Retrieving output file-rr2ooFhmSU0yauNFulyBxazb\n",
      "Retrieving output file-mjOKnW3D4mU7swoRrlkTWNkK\n",
      "Retrieving output file-3POAG0y1ZeB4umFTUh8YqVUr\n",
      "Facts retrieved and stored at /share/goyal/lio/knowledge_update/wikipedia/PopQA/step0_output.pickle\n"
     ]
    }
   ],
   "source": [
    "output_df = step0_select_entities.retrieve_outputs(batch_log_filepath=os.path.join(io_root, batch_log_filename),\n",
    "                                                  cache_filepath=os.path.join(root, cache_filename))"
   ]
  },
  {
   "cell_type": "code",
   "execution_count": 16,
   "id": "c8b3b708",
   "metadata": {},
   "outputs": [
    {
     "name": "stdout",
     "output_type": "stream",
     "text": [
      "Entity: Abraham Lincoln\n",
      "\n",
      "1. **Temporal Status**: \n",
      "   - Reasoning: Abraham Lincoln no longer exists as he was assassinated in 1865, making him a historical figure.\n",
      "   - Category: Past Status\n",
      "\n",
      "2. **Reality Status**: \n",
      "   - Reasoning: Lincoln was a real person and served as the 16th president of the United States.\n",
      "   - Category: Real\n",
      "\n",
      "3. **Concreteness**: \n",
      "   - Reasoning: Lincoln was a tangible individual with a physical presence and impact on history.\n",
      "   - Category: Concrete\n",
      "\n",
      "4. **Stability**: \n",
      "   - Reason\n"
     ]
    }
   ],
   "source": [
    "print(output_df['response'].iloc[1])"
   ]
  },
  {
   "cell_type": "markdown",
   "id": "04822ae4",
   "metadata": {},
   "source": [
    "# Check Results"
   ]
  },
  {
   "cell_type": "code",
   "execution_count": 37,
   "id": "a32b4ba1",
   "metadata": {},
   "outputs": [],
   "source": [
    "import json\n",
    "batch_log_filename = f'{dataname}_batch_log.json'\n",
    "\n",
    "with open(os.path.join(io_root, batch_log_filename)) as f:\n",
    "    batch_logs = json.load(f)"
   ]
  },
  {
   "cell_type": "code",
   "execution_count": 38,
   "id": "68f9b485",
   "metadata": {},
   "outputs": [],
   "source": [
    "with open(os.path.join(io_root, batch_log_filename), 'w') as f:\n",
    "    json.dump(batch_logs, f)"
   ]
  },
  {
   "cell_type": "code",
   "execution_count": 40,
   "id": "808c9966",
   "metadata": {},
   "outputs": [
    {
     "data": {
      "text/plain": [
       "'file-k28bVyV4n0EyChWpl0gV5oVg'"
      ]
     },
     "execution_count": 40,
     "metadata": {},
     "output_type": "execute_result"
    }
   ],
   "source": [
    "openaiAPI.client.batches.retrieve('batch_672066396e708190839bea10cb79b610').output_file_id"
   ]
  },
  {
   "cell_type": "code",
   "execution_count": 21,
   "id": "a9469c8a",
   "metadata": {},
   "outputs": [
    {
     "name": "stdout",
     "output_type": "stream",
     "text": [
      "Batch log status: completed\n"
     ]
    },
    {
     "data": {
      "text/plain": [
       "'completed'"
      ]
     },
     "execution_count": 21,
     "metadata": {},
     "output_type": "execute_result"
    }
   ],
   "source": [
    "openaiAPI.check_batch_status('batch_672066396e708190839bea10cb79b610')"
   ]
  },
  {
   "cell_type": "markdown",
   "id": "df1c9101",
   "metadata": {},
   "source": [
    "# Experiment"
   ]
  },
  {
   "cell_type": "code",
   "execution_count": 93,
   "id": "8d9ddf9b",
   "metadata": {},
   "outputs": [
    {
     "data": {
      "text/plain": [
       "<module 'codebase.wiki_entities_knowledge.prompts' from '/home/al2644/research/codebase/wiki_entities_knowledge/prompts.py'>"
      ]
     },
     "execution_count": 93,
     "metadata": {},
     "output_type": "execute_result"
    }
   ],
   "source": [
    "from openaiAPI import generate_response\n",
    "from codebase.wiki_entities_knowledge import prompts\n",
    "from codebase.wiki_entities_knowledge.prompts import *\n",
    "import importlib; importlib.reload(prompts)"
   ]
  },
  {
   "cell_type": "code",
   "execution_count": 103,
   "id": "c9552324",
   "metadata": {},
   "outputs": [],
   "source": [
    "entity = 'International Islamic Fiqh Academy'\n",
    "summary = '''International Islamic Fiqh Academy () is an international Islamic institution for the advanced study of Islamic jurisprudence and law based in Jeddah, Saudi Arabia. It was founded following a resolution by the Third Islamic Summit Conference of the Organization of Islamic Cooperation, held in Mecca, that called for the establishment of an Islamic Fiqh Academy. The International Islamic Fiqh Academy was established in June 1983 as a subsidiary organ of the Organization of Islamic Cooperation. It consists of 57 member states and representatives.'''"
   ]
  },
  {
   "cell_type": "code",
   "execution_count": 104,
   "id": "4efe5dad",
   "metadata": {},
   "outputs": [],
   "source": [
    "system_prompt = prompts.SYSTEM_PROMPT\n",
    "input_prompt_template = prompts.STEP0_INPUT_PROMPT_TEMPLATE\n",
    "input_prompt = input_prompt_template.format(entity = entity, summary = summary)"
   ]
  },
  {
   "cell_type": "code",
   "execution_count": 105,
   "id": "460fe27d",
   "metadata": {
    "scrolled": true
   },
   "outputs": [
    {
     "name": "stdout",
     "output_type": "stream",
     "text": [
      "Task: Classify the given entity based on the following criteria. Briefly specify the category it belongs to under each criterion and give output class.\n",
      "\n",
      "1. Temporal Status:\n",
      "    a. Past Status: The entity no longer exists or refers to historical events, past results, or attributes that have been achieved and are now concluded\n",
      "    b. Current Status: The entity still exists today, is active, and is likely to change in the future\n",
      "\n",
      "2. Reality Status:\n",
      "    a. Real: The entity exists in the real world\n",
      "    b. Fictional: The entity only exists in fictional world (e.g., fictional characters, fictional events)\n",
      "\n",
      "3. Concreteness:\n",
      "    a. Concrete: The entity is concrete or tangible\n",
      "    b. Abstract: The entity is conceptual or abstract, for example ideas or knowledge\n",
      "  \n",
      "4. Stability: \n",
      "    a. Stable: Facts about the entity are very stable or unlikely to change over time (e.g., stable attributes of a country or established knowledge)\n",
      "    b. Changeable: Facts about the entity are likely to change in the future due to new conditions\n",
      "\n",
      "5. Objectivity:\n",
      "    a. Objective Reality: The entity is objective and factual\n",
      "    b. Subjective: The existence of the entity is subjective or debatable\n",
      "\n",
      "First, provide a brief reasoning to check each criteria. An entity must satisfy ALL the following conditions to be classified as \"[True]\":\n",
      "Current Status AND Real AND Concrete AND Changeable AND Objective\n",
      "\n",
      "If the entity does not meet any one of these conditions, classify it as \"[False]\"\n",
      "Format: Follow the same format as the examples provided\n",
      "Background Information: A short background summary for the entity will be provided for your reference\n",
      "\n",
      "Examples:\n",
      "Entity: Hound Dog (song)\n",
      "Reason: The song has been written in the past and thus does not satisfy current status criterion\n",
      "Output: [False]\n",
      "\n",
      "Entity: 24 Hours of Le Mans\n",
      "Reason: The activity is still active and regular. It is real and concrete. The event can change in the future. It is also objective.\n",
      "Output: [True]\n",
      "\n",
      "Entity: British Defence Singapore Support Unit\n",
      "Reason: The group is still active. Its existence is real, concrete, and objective. The structure of the group can change.\n",
      "Output: [True]\n",
      "\n",
      "Entity: Harley Quinn\n",
      "Reason: The character is fictional and fails the reality criterion\n",
      "Output: [False]\n",
      "\n",
      "Entity: United States\n",
      "Reason: The entity is very stable in most ways. Most facts about it will not change quickly.\n",
      "Output: [False]\n",
      "\n",
      "Entity: Simoselaps\n",
      "Reason: The entity is a species category, which is broad and conceptual\n",
      "Output: [False]\n",
      "\n",
      "Entity: Happiness\n",
      "Reason: The entity is subjective and conceptual, thus failing the objectivity and concreteness criteria \n",
      "Output: [False]\n",
      "\n",
      "Entity: International Islamic Fiqh Academy\n",
      "Entity Background: International Islamic Fiqh Academy () is an international Islamic institution for the advanced study of Islamic jurisprudence and law based in Jeddah, Saudi Arabia. It was founded following a resolution by the Third Islamic Summit Conference of the Organization of Islamic Cooperation, held in Mecca, that called for the establishment of an Islamic Fiqh Academy. The International Islamic Fiqh Academy was established in June 1983 as a subsidiary organ of the Organization of Islamic Cooperation. It consists of 57 member states and representatives.\n",
      "\n"
     ]
    }
   ],
   "source": [
    "print(input_prompt)"
   ]
  },
  {
   "cell_type": "code",
   "execution_count": 106,
   "id": "1dc4e7a8",
   "metadata": {},
   "outputs": [],
   "source": [
    "temperature = 0.5\n",
    "max_tokens = 128\n",
    "model = 'gpt-4o-mini'\n",
    "response = generate_response(input_prompt=input_prompt, system_prompt=system_prompt, model=model,\n",
    "                            temperature=temperature, max_tokens=max_tokens)"
   ]
  },
  {
   "cell_type": "code",
   "execution_count": 107,
   "id": "12ece215",
   "metadata": {},
   "outputs": [
    {
     "name": "stdout",
     "output_type": "stream",
     "text": [
      "Entity: International Islamic Fiqh Academy  \n",
      "Reason: The Academy is currently active and exists in the real world. It is a concrete institution that focuses on Islamic jurisprudence, and while its interpretations and rulings may evolve over time, it is generally considered to provide objective knowledge regarding Islamic law.  \n",
      "Output: [True]\n"
     ]
    }
   ],
   "source": [
    "print(response)"
   ]
  }
 ],
 "metadata": {
  "kernelspec": {
   "display_name": "Python 3 (ipykernel)",
   "language": "python",
   "name": "python3"
  },
  "language_info": {
   "codemirror_mode": {
    "name": "ipython",
    "version": 3
   },
   "file_extension": ".py",
   "mimetype": "text/x-python",
   "name": "python",
   "nbconvert_exporter": "python",
   "pygments_lexer": "ipython3",
   "version": "3.12.4"
  }
 },
 "nbformat": 4,
 "nbformat_minor": 5
}
