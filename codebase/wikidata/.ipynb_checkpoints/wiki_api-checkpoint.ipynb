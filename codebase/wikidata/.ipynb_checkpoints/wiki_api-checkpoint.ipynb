{
 "cells": [
  {
   "cell_type": "code",
   "execution_count": 114,
   "id": "ac7216b0",
   "metadata": {},
   "outputs": [],
   "source": [
    "import wikipediaapi\n",
    "import requests\n",
    "import pandas \n",
    "import os\n",
    "import sys\n",
    "import pandas as pd\n",
    "from datasets import load_dataset, load_from_disk"
   ]
  },
  {
   "cell_type": "markdown",
   "id": "dbd75768",
   "metadata": {},
   "source": [
    "# Wikipedia"
   ]
  },
  {
   "cell_type": "code",
   "execution_count": 117,
   "id": "96fe834e",
   "metadata": {},
   "outputs": [
    {
     "data": {
      "application/vnd.jupyter.widget-view+json": {
       "model_id": "963dd354042449cda5a40bae00fc492e",
       "version_major": 2,
       "version_minor": 0
      },
      "text/plain": [
       "Resolving data files:   0%|          | 0/41 [00:00<?, ?it/s]"
      ]
     },
     "metadata": {},
     "output_type": "display_data"
    },
    {
     "ename": "KeyboardInterrupt",
     "evalue": "",
     "output_type": "error",
     "traceback": [
      "\u001b[0;31m---------------------------------------------------------------------------\u001b[0m",
      "\u001b[0;31mKeyboardInterrupt\u001b[0m                         Traceback (most recent call last)",
      "Cell \u001b[0;32mIn[117], line 4\u001b[0m\n\u001b[1;32m      2\u001b[0m version \u001b[38;5;241m=\u001b[39m \u001b[38;5;124m\"\u001b[39m\u001b[38;5;124m20231101.en\u001b[39m\u001b[38;5;124m\"\u001b[39m\n\u001b[1;32m      3\u001b[0m cache_dir \u001b[38;5;241m=\u001b[39m \u001b[38;5;124m\"\u001b[39m\u001b[38;5;124m/share/goyal/lio/dataset/huggingface\u001b[39m\u001b[38;5;124m\"\u001b[39m\n\u001b[0;32m----> 4\u001b[0m ds \u001b[38;5;241m=\u001b[39m \u001b[43mload_dataset\u001b[49m\u001b[43m(\u001b[49m\u001b[43mdataset_name\u001b[49m\u001b[43m,\u001b[49m\u001b[43m \u001b[49m\u001b[43mversion\u001b[49m\u001b[43m,\u001b[49m\u001b[43m \u001b[49m\u001b[43mcache_dir\u001b[49m\u001b[38;5;241;43m=\u001b[39;49m\u001b[43mcache_dir\u001b[49m\u001b[43m)\u001b[49m\n",
      "File \u001b[0;32m~/anaconda3/envs/nlp/lib/python3.12/site-packages/datasets/load.py:2074\u001b[0m, in \u001b[0;36mload_dataset\u001b[0;34m(path, name, data_dir, data_files, split, cache_dir, features, download_config, download_mode, verification_mode, keep_in_memory, save_infos, revision, token, streaming, num_proc, storage_options, trust_remote_code, **config_kwargs)\u001b[0m\n\u001b[1;32m   2069\u001b[0m verification_mode \u001b[38;5;241m=\u001b[39m VerificationMode(\n\u001b[1;32m   2070\u001b[0m     (verification_mode \u001b[38;5;129;01mor\u001b[39;00m VerificationMode\u001b[38;5;241m.\u001b[39mBASIC_CHECKS) \u001b[38;5;28;01mif\u001b[39;00m \u001b[38;5;129;01mnot\u001b[39;00m save_infos \u001b[38;5;28;01melse\u001b[39;00m VerificationMode\u001b[38;5;241m.\u001b[39mALL_CHECKS\n\u001b[1;32m   2071\u001b[0m )\n\u001b[1;32m   2073\u001b[0m \u001b[38;5;66;03m# Create a dataset builder\u001b[39;00m\n\u001b[0;32m-> 2074\u001b[0m builder_instance \u001b[38;5;241m=\u001b[39m \u001b[43mload_dataset_builder\u001b[49m\u001b[43m(\u001b[49m\n\u001b[1;32m   2075\u001b[0m \u001b[43m    \u001b[49m\u001b[43mpath\u001b[49m\u001b[38;5;241;43m=\u001b[39;49m\u001b[43mpath\u001b[49m\u001b[43m,\u001b[49m\n\u001b[1;32m   2076\u001b[0m \u001b[43m    \u001b[49m\u001b[43mname\u001b[49m\u001b[38;5;241;43m=\u001b[39;49m\u001b[43mname\u001b[49m\u001b[43m,\u001b[49m\n\u001b[1;32m   2077\u001b[0m \u001b[43m    \u001b[49m\u001b[43mdata_dir\u001b[49m\u001b[38;5;241;43m=\u001b[39;49m\u001b[43mdata_dir\u001b[49m\u001b[43m,\u001b[49m\n\u001b[1;32m   2078\u001b[0m \u001b[43m    \u001b[49m\u001b[43mdata_files\u001b[49m\u001b[38;5;241;43m=\u001b[39;49m\u001b[43mdata_files\u001b[49m\u001b[43m,\u001b[49m\n\u001b[1;32m   2079\u001b[0m \u001b[43m    \u001b[49m\u001b[43mcache_dir\u001b[49m\u001b[38;5;241;43m=\u001b[39;49m\u001b[43mcache_dir\u001b[49m\u001b[43m,\u001b[49m\n\u001b[1;32m   2080\u001b[0m \u001b[43m    \u001b[49m\u001b[43mfeatures\u001b[49m\u001b[38;5;241;43m=\u001b[39;49m\u001b[43mfeatures\u001b[49m\u001b[43m,\u001b[49m\n\u001b[1;32m   2081\u001b[0m \u001b[43m    \u001b[49m\u001b[43mdownload_config\u001b[49m\u001b[38;5;241;43m=\u001b[39;49m\u001b[43mdownload_config\u001b[49m\u001b[43m,\u001b[49m\n\u001b[1;32m   2082\u001b[0m \u001b[43m    \u001b[49m\u001b[43mdownload_mode\u001b[49m\u001b[38;5;241;43m=\u001b[39;49m\u001b[43mdownload_mode\u001b[49m\u001b[43m,\u001b[49m\n\u001b[1;32m   2083\u001b[0m \u001b[43m    \u001b[49m\u001b[43mrevision\u001b[49m\u001b[38;5;241;43m=\u001b[39;49m\u001b[43mrevision\u001b[49m\u001b[43m,\u001b[49m\n\u001b[1;32m   2084\u001b[0m \u001b[43m    \u001b[49m\u001b[43mtoken\u001b[49m\u001b[38;5;241;43m=\u001b[39;49m\u001b[43mtoken\u001b[49m\u001b[43m,\u001b[49m\n\u001b[1;32m   2085\u001b[0m \u001b[43m    \u001b[49m\u001b[43mstorage_options\u001b[49m\u001b[38;5;241;43m=\u001b[39;49m\u001b[43mstorage_options\u001b[49m\u001b[43m,\u001b[49m\n\u001b[1;32m   2086\u001b[0m \u001b[43m    \u001b[49m\u001b[43mtrust_remote_code\u001b[49m\u001b[38;5;241;43m=\u001b[39;49m\u001b[43mtrust_remote_code\u001b[49m\u001b[43m,\u001b[49m\n\u001b[1;32m   2087\u001b[0m \u001b[43m    \u001b[49m\u001b[43m_require_default_config_name\u001b[49m\u001b[38;5;241;43m=\u001b[39;49m\u001b[43mname\u001b[49m\u001b[43m \u001b[49m\u001b[38;5;129;43;01mis\u001b[39;49;00m\u001b[43m \u001b[49m\u001b[38;5;28;43;01mNone\u001b[39;49;00m\u001b[43m,\u001b[49m\n\u001b[1;32m   2088\u001b[0m \u001b[43m    \u001b[49m\u001b[38;5;241;43m*\u001b[39;49m\u001b[38;5;241;43m*\u001b[39;49m\u001b[43mconfig_kwargs\u001b[49m\u001b[43m,\u001b[49m\n\u001b[1;32m   2089\u001b[0m \u001b[43m\u001b[49m\u001b[43m)\u001b[49m\n\u001b[1;32m   2091\u001b[0m \u001b[38;5;66;03m# Return iterable dataset in case of streaming\u001b[39;00m\n\u001b[1;32m   2092\u001b[0m \u001b[38;5;28;01mif\u001b[39;00m streaming:\n",
      "File \u001b[0;32m~/anaconda3/envs/nlp/lib/python3.12/site-packages/datasets/load.py:1832\u001b[0m, in \u001b[0;36mload_dataset_builder\u001b[0;34m(path, name, data_dir, data_files, cache_dir, features, download_config, download_mode, revision, token, storage_options, trust_remote_code, _require_default_config_name, **config_kwargs)\u001b[0m\n\u001b[1;32m   1830\u001b[0m builder_cls \u001b[38;5;241m=\u001b[39m get_dataset_builder_class(dataset_module, dataset_name\u001b[38;5;241m=\u001b[39mdataset_name)\n\u001b[1;32m   1831\u001b[0m \u001b[38;5;66;03m# Instantiate the dataset builder\u001b[39;00m\n\u001b[0;32m-> 1832\u001b[0m builder_instance: DatasetBuilder \u001b[38;5;241m=\u001b[39m \u001b[43mbuilder_cls\u001b[49m\u001b[43m(\u001b[49m\n\u001b[1;32m   1833\u001b[0m \u001b[43m    \u001b[49m\u001b[43mcache_dir\u001b[49m\u001b[38;5;241;43m=\u001b[39;49m\u001b[43mcache_dir\u001b[49m\u001b[43m,\u001b[49m\n\u001b[1;32m   1834\u001b[0m \u001b[43m    \u001b[49m\u001b[43mdataset_name\u001b[49m\u001b[38;5;241;43m=\u001b[39;49m\u001b[43mdataset_name\u001b[49m\u001b[43m,\u001b[49m\n\u001b[1;32m   1835\u001b[0m \u001b[43m    \u001b[49m\u001b[43mconfig_name\u001b[49m\u001b[38;5;241;43m=\u001b[39;49m\u001b[43mconfig_name\u001b[49m\u001b[43m,\u001b[49m\n\u001b[1;32m   1836\u001b[0m \u001b[43m    \u001b[49m\u001b[43mdata_dir\u001b[49m\u001b[38;5;241;43m=\u001b[39;49m\u001b[43mdata_dir\u001b[49m\u001b[43m,\u001b[49m\n\u001b[1;32m   1837\u001b[0m \u001b[43m    \u001b[49m\u001b[43mdata_files\u001b[49m\u001b[38;5;241;43m=\u001b[39;49m\u001b[43mdata_files\u001b[49m\u001b[43m,\u001b[49m\n\u001b[1;32m   1838\u001b[0m \u001b[43m    \u001b[49m\u001b[38;5;28;43mhash\u001b[39;49m\u001b[38;5;241;43m=\u001b[39;49m\u001b[43mdataset_module\u001b[49m\u001b[38;5;241;43m.\u001b[39;49m\u001b[43mhash\u001b[49m\u001b[43m,\u001b[49m\n\u001b[1;32m   1839\u001b[0m \u001b[43m    \u001b[49m\u001b[43minfo\u001b[49m\u001b[38;5;241;43m=\u001b[39;49m\u001b[43minfo\u001b[49m\u001b[43m,\u001b[49m\n\u001b[1;32m   1840\u001b[0m \u001b[43m    \u001b[49m\u001b[43mfeatures\u001b[49m\u001b[38;5;241;43m=\u001b[39;49m\u001b[43mfeatures\u001b[49m\u001b[43m,\u001b[49m\n\u001b[1;32m   1841\u001b[0m \u001b[43m    \u001b[49m\u001b[43mtoken\u001b[49m\u001b[38;5;241;43m=\u001b[39;49m\u001b[43mtoken\u001b[49m\u001b[43m,\u001b[49m\n\u001b[1;32m   1842\u001b[0m \u001b[43m    \u001b[49m\u001b[43mstorage_options\u001b[49m\u001b[38;5;241;43m=\u001b[39;49m\u001b[43mstorage_options\u001b[49m\u001b[43m,\u001b[49m\n\u001b[1;32m   1843\u001b[0m \u001b[43m    \u001b[49m\u001b[38;5;241;43m*\u001b[39;49m\u001b[38;5;241;43m*\u001b[39;49m\u001b[43mbuilder_kwargs\u001b[49m\u001b[43m,\u001b[49m\n\u001b[1;32m   1844\u001b[0m \u001b[43m    \u001b[49m\u001b[38;5;241;43m*\u001b[39;49m\u001b[38;5;241;43m*\u001b[39;49m\u001b[43mconfig_kwargs\u001b[49m\u001b[43m,\u001b[49m\n\u001b[1;32m   1845\u001b[0m \u001b[43m\u001b[49m\u001b[43m)\u001b[49m\n\u001b[1;32m   1846\u001b[0m builder_instance\u001b[38;5;241m.\u001b[39m_use_legacy_cache_dir_if_possible(dataset_module)\n\u001b[1;32m   1848\u001b[0m \u001b[38;5;28;01mreturn\u001b[39;00m builder_instance\n",
      "File \u001b[0;32m~/anaconda3/envs/nlp/lib/python3.12/site-packages/datasets/builder.py:342\u001b[0m, in \u001b[0;36mDatasetBuilder.__init__\u001b[0;34m(self, cache_dir, dataset_name, config_name, hash, base_path, info, features, token, repo_id, data_files, data_dir, storage_options, writer_batch_size, **config_kwargs)\u001b[0m\n\u001b[1;32m    340\u001b[0m     config_kwargs[\u001b[38;5;124m\"\u001b[39m\u001b[38;5;124mdata_dir\u001b[39m\u001b[38;5;124m\"\u001b[39m] \u001b[38;5;241m=\u001b[39m data_dir\n\u001b[1;32m    341\u001b[0m \u001b[38;5;28mself\u001b[39m\u001b[38;5;241m.\u001b[39mconfig_kwargs \u001b[38;5;241m=\u001b[39m config_kwargs\n\u001b[0;32m--> 342\u001b[0m \u001b[38;5;28mself\u001b[39m\u001b[38;5;241m.\u001b[39mconfig, \u001b[38;5;28mself\u001b[39m\u001b[38;5;241m.\u001b[39mconfig_id \u001b[38;5;241m=\u001b[39m \u001b[38;5;28;43mself\u001b[39;49m\u001b[38;5;241;43m.\u001b[39;49m\u001b[43m_create_builder_config\u001b[49m\u001b[43m(\u001b[49m\n\u001b[1;32m    343\u001b[0m \u001b[43m    \u001b[49m\u001b[43mconfig_name\u001b[49m\u001b[38;5;241;43m=\u001b[39;49m\u001b[43mconfig_name\u001b[49m\u001b[43m,\u001b[49m\n\u001b[1;32m    344\u001b[0m \u001b[43m    \u001b[49m\u001b[43mcustom_features\u001b[49m\u001b[38;5;241;43m=\u001b[39;49m\u001b[43mfeatures\u001b[49m\u001b[43m,\u001b[49m\n\u001b[1;32m    345\u001b[0m \u001b[43m    \u001b[49m\u001b[38;5;241;43m*\u001b[39;49m\u001b[38;5;241;43m*\u001b[39;49m\u001b[43mconfig_kwargs\u001b[49m\u001b[43m,\u001b[49m\n\u001b[1;32m    346\u001b[0m \u001b[43m\u001b[49m\u001b[43m)\u001b[49m\n\u001b[1;32m    348\u001b[0m \u001b[38;5;66;03m# prepare info: DatasetInfo are a standardized dataclass across all datasets\u001b[39;00m\n\u001b[1;32m    349\u001b[0m \u001b[38;5;66;03m# Prefill datasetinfo\u001b[39;00m\n\u001b[1;32m    350\u001b[0m \u001b[38;5;28;01mif\u001b[39;00m info \u001b[38;5;129;01mis\u001b[39;00m \u001b[38;5;28;01mNone\u001b[39;00m:\n\u001b[1;32m    351\u001b[0m     \u001b[38;5;66;03m# TODO FOR PACKAGED MODULES IT IMPORTS DATA FROM src/packaged_modules which doesn't make sense\u001b[39;00m\n",
      "File \u001b[0;32m~/anaconda3/envs/nlp/lib/python3.12/site-packages/datasets/builder.py:597\u001b[0m, in \u001b[0;36mDatasetBuilder._create_builder_config\u001b[0;34m(self, config_name, custom_features, **config_kwargs)\u001b[0m\n\u001b[1;32m    594\u001b[0m     \u001b[38;5;28;01mraise\u001b[39;00m \u001b[38;5;167;01mValueError\u001b[39;00m(\u001b[38;5;124mf\u001b[39m\u001b[38;5;124m\"\u001b[39m\u001b[38;5;124mBuilderConfig must have a name, got \u001b[39m\u001b[38;5;132;01m{\u001b[39;00mbuilder_config\u001b[38;5;241m.\u001b[39mname\u001b[38;5;132;01m}\u001b[39;00m\u001b[38;5;124m\"\u001b[39m)\n\u001b[1;32m    596\u001b[0m \u001b[38;5;66;03m# resolve data files if needed\u001b[39;00m\n\u001b[0;32m--> 597\u001b[0m \u001b[43mbuilder_config\u001b[49m\u001b[38;5;241;43m.\u001b[39;49m\u001b[43m_resolve_data_files\u001b[49m\u001b[43m(\u001b[49m\n\u001b[1;32m    598\u001b[0m \u001b[43m    \u001b[49m\u001b[43mbase_path\u001b[49m\u001b[38;5;241;43m=\u001b[39;49m\u001b[38;5;28;43mself\u001b[39;49m\u001b[38;5;241;43m.\u001b[39;49m\u001b[43mbase_path\u001b[49m\u001b[43m,\u001b[49m\n\u001b[1;32m    599\u001b[0m \u001b[43m    \u001b[49m\u001b[43mdownload_config\u001b[49m\u001b[38;5;241;43m=\u001b[39;49m\u001b[43mDownloadConfig\u001b[49m\u001b[43m(\u001b[49m\u001b[43mtoken\u001b[49m\u001b[38;5;241;43m=\u001b[39;49m\u001b[38;5;28;43mself\u001b[39;49m\u001b[38;5;241;43m.\u001b[39;49m\u001b[43mtoken\u001b[49m\u001b[43m,\u001b[49m\u001b[43m \u001b[49m\u001b[43mstorage_options\u001b[49m\u001b[38;5;241;43m=\u001b[39;49m\u001b[38;5;28;43mself\u001b[39;49m\u001b[38;5;241;43m.\u001b[39;49m\u001b[43mstorage_options\u001b[49m\u001b[43m)\u001b[49m\u001b[43m,\u001b[49m\n\u001b[1;32m    600\u001b[0m \u001b[43m\u001b[49m\u001b[43m)\u001b[49m\n\u001b[1;32m    602\u001b[0m \u001b[38;5;66;03m# compute the config id that is going to be used for caching\u001b[39;00m\n\u001b[1;32m    603\u001b[0m config_id \u001b[38;5;241m=\u001b[39m builder_config\u001b[38;5;241m.\u001b[39mcreate_config_id(\n\u001b[1;32m    604\u001b[0m     config_kwargs,\n\u001b[1;32m    605\u001b[0m     custom_features\u001b[38;5;241m=\u001b[39mcustom_features,\n\u001b[1;32m    606\u001b[0m )\n",
      "File \u001b[0;32m~/anaconda3/envs/nlp/lib/python3.12/site-packages/datasets/builder.py:206\u001b[0m, in \u001b[0;36mBuilderConfig._resolve_data_files\u001b[0;34m(self, base_path, download_config)\u001b[0m\n\u001b[1;32m    204\u001b[0m \u001b[38;5;28;01mif\u001b[39;00m \u001b[38;5;28misinstance\u001b[39m(\u001b[38;5;28mself\u001b[39m\u001b[38;5;241m.\u001b[39mdata_files, DataFilesPatternsDict):\n\u001b[1;32m    205\u001b[0m     base_path \u001b[38;5;241m=\u001b[39m xjoin(base_path, \u001b[38;5;28mself\u001b[39m\u001b[38;5;241m.\u001b[39mdata_dir) \u001b[38;5;28;01mif\u001b[39;00m \u001b[38;5;28mself\u001b[39m\u001b[38;5;241m.\u001b[39mdata_dir \u001b[38;5;28;01melse\u001b[39;00m base_path\n\u001b[0;32m--> 206\u001b[0m     \u001b[38;5;28mself\u001b[39m\u001b[38;5;241m.\u001b[39mdata_files \u001b[38;5;241m=\u001b[39m \u001b[38;5;28;43mself\u001b[39;49m\u001b[38;5;241;43m.\u001b[39;49m\u001b[43mdata_files\u001b[49m\u001b[38;5;241;43m.\u001b[39;49m\u001b[43mresolve\u001b[49m\u001b[43m(\u001b[49m\u001b[43mbase_path\u001b[49m\u001b[43m,\u001b[49m\u001b[43m \u001b[49m\u001b[43mdownload_config\u001b[49m\u001b[43m)\u001b[49m\n",
      "File \u001b[0;32m~/anaconda3/envs/nlp/lib/python3.12/site-packages/datasets/data_files.py:818\u001b[0m, in \u001b[0;36mDataFilesPatternsDict.resolve\u001b[0;34m(self, base_path, download_config)\u001b[0m\n\u001b[1;32m    816\u001b[0m out \u001b[38;5;241m=\u001b[39m DataFilesDict()\n\u001b[1;32m    817\u001b[0m \u001b[38;5;28;01mfor\u001b[39;00m key, data_files_patterns_list \u001b[38;5;129;01min\u001b[39;00m \u001b[38;5;28mself\u001b[39m\u001b[38;5;241m.\u001b[39mitems():\n\u001b[0;32m--> 818\u001b[0m     out[key] \u001b[38;5;241m=\u001b[39m \u001b[43mdata_files_patterns_list\u001b[49m\u001b[38;5;241;43m.\u001b[39;49m\u001b[43mresolve\u001b[49m\u001b[43m(\u001b[49m\u001b[43mbase_path\u001b[49m\u001b[43m,\u001b[49m\u001b[43m \u001b[49m\u001b[43mdownload_config\u001b[49m\u001b[43m)\u001b[49m\n\u001b[1;32m    819\u001b[0m \u001b[38;5;28;01mreturn\u001b[39;00m out\n",
      "File \u001b[0;32m~/anaconda3/envs/nlp/lib/python3.12/site-packages/datasets/data_files.py:781\u001b[0m, in \u001b[0;36mDataFilesPatternsList.resolve\u001b[0;34m(self, base_path, download_config)\u001b[0m\n\u001b[1;32m    779\u001b[0m         \u001b[38;5;28;01mif\u001b[39;00m \u001b[38;5;129;01mnot\u001b[39;00m has_magic(pattern):\n\u001b[1;32m    780\u001b[0m             \u001b[38;5;28;01mraise\u001b[39;00m\n\u001b[0;32m--> 781\u001b[0m origin_metadata \u001b[38;5;241m=\u001b[39m \u001b[43m_get_origin_metadata\u001b[49m\u001b[43m(\u001b[49m\u001b[43mdata_files\u001b[49m\u001b[43m,\u001b[49m\u001b[43m \u001b[49m\u001b[43mdownload_config\u001b[49m\u001b[38;5;241;43m=\u001b[39;49m\u001b[43mdownload_config\u001b[49m\u001b[43m)\u001b[49m\n\u001b[1;32m    782\u001b[0m \u001b[38;5;28;01mreturn\u001b[39;00m DataFilesList(data_files, origin_metadata)\n",
      "File \u001b[0;32m~/anaconda3/envs/nlp/lib/python3.12/site-packages/datasets/data_files.py:548\u001b[0m, in \u001b[0;36m_get_origin_metadata\u001b[0;34m(data_files, download_config, max_workers)\u001b[0m\n\u001b[1;32m    542\u001b[0m \u001b[38;5;28;01mdef\u001b[39;00m \u001b[38;5;21m_get_origin_metadata\u001b[39m(\n\u001b[1;32m    543\u001b[0m     data_files: List[\u001b[38;5;28mstr\u001b[39m],\n\u001b[1;32m    544\u001b[0m     download_config: Optional[DownloadConfig] \u001b[38;5;241m=\u001b[39m \u001b[38;5;28;01mNone\u001b[39;00m,\n\u001b[1;32m    545\u001b[0m     max_workers: Optional[\u001b[38;5;28mint\u001b[39m] \u001b[38;5;241m=\u001b[39m \u001b[38;5;28;01mNone\u001b[39;00m,\n\u001b[1;32m    546\u001b[0m ) \u001b[38;5;241m-\u001b[39m\u001b[38;5;241m>\u001b[39m List[SingleOriginMetadata]:\n\u001b[1;32m    547\u001b[0m     max_workers \u001b[38;5;241m=\u001b[39m max_workers \u001b[38;5;28;01mif\u001b[39;00m max_workers \u001b[38;5;129;01mis\u001b[39;00m \u001b[38;5;129;01mnot\u001b[39;00m \u001b[38;5;28;01mNone\u001b[39;00m \u001b[38;5;28;01melse\u001b[39;00m config\u001b[38;5;241m.\u001b[39mHF_DATASETS_MULTITHREADING_MAX_WORKERS\n\u001b[0;32m--> 548\u001b[0m     \u001b[38;5;28;01mreturn\u001b[39;00m \u001b[43mthread_map\u001b[49m\u001b[43m(\u001b[49m\n\u001b[1;32m    549\u001b[0m \u001b[43m        \u001b[49m\u001b[43mpartial\u001b[49m\u001b[43m(\u001b[49m\u001b[43m_get_single_origin_metadata\u001b[49m\u001b[43m,\u001b[49m\u001b[43m \u001b[49m\u001b[43mdownload_config\u001b[49m\u001b[38;5;241;43m=\u001b[39;49m\u001b[43mdownload_config\u001b[49m\u001b[43m)\u001b[49m\u001b[43m,\u001b[49m\n\u001b[1;32m    550\u001b[0m \u001b[43m        \u001b[49m\u001b[43mdata_files\u001b[49m\u001b[43m,\u001b[49m\n\u001b[1;32m    551\u001b[0m \u001b[43m        \u001b[49m\u001b[43mmax_workers\u001b[49m\u001b[38;5;241;43m=\u001b[39;49m\u001b[43mmax_workers\u001b[49m\u001b[43m,\u001b[49m\n\u001b[1;32m    552\u001b[0m \u001b[43m        \u001b[49m\u001b[43mtqdm_class\u001b[49m\u001b[38;5;241;43m=\u001b[39;49m\u001b[43mhf_tqdm\u001b[49m\u001b[43m,\u001b[49m\n\u001b[1;32m    553\u001b[0m \u001b[43m        \u001b[49m\u001b[43mdesc\u001b[49m\u001b[38;5;241;43m=\u001b[39;49m\u001b[38;5;124;43m\"\u001b[39;49m\u001b[38;5;124;43mResolving data files\u001b[39;49m\u001b[38;5;124;43m\"\u001b[39;49m\u001b[43m,\u001b[49m\n\u001b[1;32m    554\u001b[0m \u001b[43m        \u001b[49m\u001b[38;5;66;43;03m# set `disable=None` rather than `disable=False` by default to disable progress bar when no TTY attached\u001b[39;49;00m\n\u001b[1;32m    555\u001b[0m \u001b[43m        \u001b[49m\u001b[43mdisable\u001b[49m\u001b[38;5;241;43m=\u001b[39;49m\u001b[38;5;28;43mlen\u001b[39;49m\u001b[43m(\u001b[49m\u001b[43mdata_files\u001b[49m\u001b[43m)\u001b[49m\u001b[43m \u001b[49m\u001b[38;5;241;43m<\u001b[39;49m\u001b[38;5;241;43m=\u001b[39;49m\u001b[43m \u001b[49m\u001b[38;5;241;43m16\u001b[39;49m\u001b[43m \u001b[49m\u001b[38;5;129;43;01mor\u001b[39;49;00m\u001b[43m \u001b[49m\u001b[38;5;28;43;01mNone\u001b[39;49;00m\u001b[43m,\u001b[49m\n\u001b[1;32m    556\u001b[0m \u001b[43m    \u001b[49m\u001b[43m)\u001b[49m\n",
      "File \u001b[0;32m~/anaconda3/envs/nlp/lib/python3.12/site-packages/tqdm/contrib/concurrent.py:69\u001b[0m, in \u001b[0;36mthread_map\u001b[0;34m(fn, *iterables, **tqdm_kwargs)\u001b[0m\n\u001b[1;32m     55\u001b[0m \u001b[38;5;250m\u001b[39m\u001b[38;5;124;03m\"\"\"\u001b[39;00m\n\u001b[1;32m     56\u001b[0m \u001b[38;5;124;03mEquivalent of `list(map(fn, *iterables))`\u001b[39;00m\n\u001b[1;32m     57\u001b[0m \u001b[38;5;124;03mdriven by `concurrent.futures.ThreadPoolExecutor`.\u001b[39;00m\n\u001b[0;32m   (...)\u001b[0m\n\u001b[1;32m     66\u001b[0m \u001b[38;5;124;03m    [default: max(32, cpu_count() + 4)].\u001b[39;00m\n\u001b[1;32m     67\u001b[0m \u001b[38;5;124;03m\"\"\"\u001b[39;00m\n\u001b[1;32m     68\u001b[0m \u001b[38;5;28;01mfrom\u001b[39;00m \u001b[38;5;21;01mconcurrent\u001b[39;00m\u001b[38;5;21;01m.\u001b[39;00m\u001b[38;5;21;01mfutures\u001b[39;00m \u001b[38;5;28;01mimport\u001b[39;00m ThreadPoolExecutor\n\u001b[0;32m---> 69\u001b[0m \u001b[38;5;28;01mreturn\u001b[39;00m \u001b[43m_executor_map\u001b[49m\u001b[43m(\u001b[49m\u001b[43mThreadPoolExecutor\u001b[49m\u001b[43m,\u001b[49m\u001b[43m \u001b[49m\u001b[43mfn\u001b[49m\u001b[43m,\u001b[49m\u001b[43m \u001b[49m\u001b[38;5;241;43m*\u001b[39;49m\u001b[43miterables\u001b[49m\u001b[43m,\u001b[49m\u001b[43m \u001b[49m\u001b[38;5;241;43m*\u001b[39;49m\u001b[38;5;241;43m*\u001b[39;49m\u001b[43mtqdm_kwargs\u001b[49m\u001b[43m)\u001b[49m\n",
      "File \u001b[0;32m~/anaconda3/envs/nlp/lib/python3.12/site-packages/tqdm/contrib/concurrent.py:51\u001b[0m, in \u001b[0;36m_executor_map\u001b[0;34m(PoolExecutor, fn, *iterables, **tqdm_kwargs)\u001b[0m\n\u001b[1;32m     47\u001b[0m \u001b[38;5;28;01mwith\u001b[39;00m ensure_lock(tqdm_class, lock_name\u001b[38;5;241m=\u001b[39mlock_name) \u001b[38;5;28;01mas\u001b[39;00m lk:\n\u001b[1;32m     48\u001b[0m     \u001b[38;5;66;03m# share lock in case workers are already using `tqdm`\u001b[39;00m\n\u001b[1;32m     49\u001b[0m     \u001b[38;5;28;01mwith\u001b[39;00m PoolExecutor(max_workers\u001b[38;5;241m=\u001b[39mmax_workers, initializer\u001b[38;5;241m=\u001b[39mtqdm_class\u001b[38;5;241m.\u001b[39mset_lock,\n\u001b[1;32m     50\u001b[0m                       initargs\u001b[38;5;241m=\u001b[39m(lk,)) \u001b[38;5;28;01mas\u001b[39;00m ex:\n\u001b[0;32m---> 51\u001b[0m         \u001b[38;5;28;01mreturn\u001b[39;00m \u001b[38;5;28;43mlist\u001b[39;49m\u001b[43m(\u001b[49m\u001b[43mtqdm_class\u001b[49m\u001b[43m(\u001b[49m\u001b[43mex\u001b[49m\u001b[38;5;241;43m.\u001b[39;49m\u001b[43mmap\u001b[49m\u001b[43m(\u001b[49m\u001b[43mfn\u001b[49m\u001b[43m,\u001b[49m\u001b[43m \u001b[49m\u001b[38;5;241;43m*\u001b[39;49m\u001b[43miterables\u001b[49m\u001b[43m,\u001b[49m\u001b[43m \u001b[49m\u001b[43mchunksize\u001b[49m\u001b[38;5;241;43m=\u001b[39;49m\u001b[43mchunksize\u001b[49m\u001b[43m)\u001b[49m\u001b[43m,\u001b[49m\u001b[43m \u001b[49m\u001b[38;5;241;43m*\u001b[39;49m\u001b[38;5;241;43m*\u001b[39;49m\u001b[43mkwargs\u001b[49m\u001b[43m)\u001b[49m\u001b[43m)\u001b[49m\n",
      "File \u001b[0;32m~/anaconda3/envs/nlp/lib/python3.12/site-packages/tqdm/notebook.py:250\u001b[0m, in \u001b[0;36mtqdm_notebook.__iter__\u001b[0;34m(self)\u001b[0m\n\u001b[1;32m    248\u001b[0m \u001b[38;5;28;01mtry\u001b[39;00m:\n\u001b[1;32m    249\u001b[0m     it \u001b[38;5;241m=\u001b[39m \u001b[38;5;28msuper\u001b[39m()\u001b[38;5;241m.\u001b[39m\u001b[38;5;21m__iter__\u001b[39m()\n\u001b[0;32m--> 250\u001b[0m \u001b[43m    \u001b[49m\u001b[38;5;28;43;01mfor\u001b[39;49;00m\u001b[43m \u001b[49m\u001b[43mobj\u001b[49m\u001b[43m \u001b[49m\u001b[38;5;129;43;01min\u001b[39;49;00m\u001b[43m \u001b[49m\u001b[43mit\u001b[49m\u001b[43m:\u001b[49m\n\u001b[1;32m    251\u001b[0m \u001b[43m        \u001b[49m\u001b[38;5;66;43;03m# return super(tqdm...) will not catch exception\u001b[39;49;00m\n\u001b[1;32m    252\u001b[0m \u001b[43m        \u001b[49m\u001b[38;5;28;43;01myield\u001b[39;49;00m\u001b[43m \u001b[49m\u001b[43mobj\u001b[49m\n\u001b[1;32m    253\u001b[0m \u001b[38;5;66;03m# NB: except ... [ as ...] breaks IPython async KeyboardInterrupt\u001b[39;00m\n",
      "File \u001b[0;32m~/anaconda3/envs/nlp/lib/python3.12/site-packages/tqdm/std.py:1181\u001b[0m, in \u001b[0;36mtqdm.__iter__\u001b[0;34m(self)\u001b[0m\n\u001b[1;32m   1178\u001b[0m time \u001b[38;5;241m=\u001b[39m \u001b[38;5;28mself\u001b[39m\u001b[38;5;241m.\u001b[39m_time\n\u001b[1;32m   1180\u001b[0m \u001b[38;5;28;01mtry\u001b[39;00m:\n\u001b[0;32m-> 1181\u001b[0m \u001b[43m    \u001b[49m\u001b[38;5;28;43;01mfor\u001b[39;49;00m\u001b[43m \u001b[49m\u001b[43mobj\u001b[49m\u001b[43m \u001b[49m\u001b[38;5;129;43;01min\u001b[39;49;00m\u001b[43m \u001b[49m\u001b[43miterable\u001b[49m\u001b[43m:\u001b[49m\n\u001b[1;32m   1182\u001b[0m \u001b[43m        \u001b[49m\u001b[38;5;28;43;01myield\u001b[39;49;00m\u001b[43m \u001b[49m\u001b[43mobj\u001b[49m\n\u001b[1;32m   1183\u001b[0m \u001b[43m        \u001b[49m\u001b[38;5;66;43;03m# Update and possibly print the progressbar.\u001b[39;49;00m\n\u001b[1;32m   1184\u001b[0m \u001b[43m        \u001b[49m\u001b[38;5;66;43;03m# Note: does not call self.update(1) for speed optimisation.\u001b[39;49;00m\n",
      "File \u001b[0;32m~/anaconda3/envs/nlp/lib/python3.12/concurrent/futures/_base.py:619\u001b[0m, in \u001b[0;36mExecutor.map.<locals>.result_iterator\u001b[0;34m()\u001b[0m\n\u001b[1;32m    616\u001b[0m \u001b[38;5;28;01mwhile\u001b[39;00m fs:\n\u001b[1;32m    617\u001b[0m     \u001b[38;5;66;03m# Careful not to keep a reference to the popped future\u001b[39;00m\n\u001b[1;32m    618\u001b[0m     \u001b[38;5;28;01mif\u001b[39;00m timeout \u001b[38;5;129;01mis\u001b[39;00m \u001b[38;5;28;01mNone\u001b[39;00m:\n\u001b[0;32m--> 619\u001b[0m         \u001b[38;5;28;01myield\u001b[39;00m \u001b[43m_result_or_cancel\u001b[49m\u001b[43m(\u001b[49m\u001b[43mfs\u001b[49m\u001b[38;5;241;43m.\u001b[39;49m\u001b[43mpop\u001b[49m\u001b[43m(\u001b[49m\u001b[43m)\u001b[49m\u001b[43m)\u001b[49m\n\u001b[1;32m    620\u001b[0m     \u001b[38;5;28;01melse\u001b[39;00m:\n\u001b[1;32m    621\u001b[0m         \u001b[38;5;28;01myield\u001b[39;00m _result_or_cancel(fs\u001b[38;5;241m.\u001b[39mpop(), end_time \u001b[38;5;241m-\u001b[39m time\u001b[38;5;241m.\u001b[39mmonotonic())\n",
      "File \u001b[0;32m~/anaconda3/envs/nlp/lib/python3.12/concurrent/futures/_base.py:317\u001b[0m, in \u001b[0;36m_result_or_cancel\u001b[0;34m(***failed resolving arguments***)\u001b[0m\n\u001b[1;32m    315\u001b[0m \u001b[38;5;28;01mtry\u001b[39;00m:\n\u001b[1;32m    316\u001b[0m     \u001b[38;5;28;01mtry\u001b[39;00m:\n\u001b[0;32m--> 317\u001b[0m         \u001b[38;5;28;01mreturn\u001b[39;00m \u001b[43mfut\u001b[49m\u001b[38;5;241;43m.\u001b[39;49m\u001b[43mresult\u001b[49m\u001b[43m(\u001b[49m\u001b[43mtimeout\u001b[49m\u001b[43m)\u001b[49m\n\u001b[1;32m    318\u001b[0m     \u001b[38;5;28;01mfinally\u001b[39;00m:\n\u001b[1;32m    319\u001b[0m         fut\u001b[38;5;241m.\u001b[39mcancel()\n",
      "File \u001b[0;32m~/anaconda3/envs/nlp/lib/python3.12/concurrent/futures/_base.py:451\u001b[0m, in \u001b[0;36mFuture.result\u001b[0;34m(self, timeout)\u001b[0m\n\u001b[1;32m    448\u001b[0m \u001b[38;5;28;01melif\u001b[39;00m \u001b[38;5;28mself\u001b[39m\u001b[38;5;241m.\u001b[39m_state \u001b[38;5;241m==\u001b[39m FINISHED:\n\u001b[1;32m    449\u001b[0m     \u001b[38;5;28;01mreturn\u001b[39;00m \u001b[38;5;28mself\u001b[39m\u001b[38;5;241m.\u001b[39m__get_result()\n\u001b[0;32m--> 451\u001b[0m \u001b[38;5;28;43mself\u001b[39;49m\u001b[38;5;241;43m.\u001b[39;49m\u001b[43m_condition\u001b[49m\u001b[38;5;241;43m.\u001b[39;49m\u001b[43mwait\u001b[49m\u001b[43m(\u001b[49m\u001b[43mtimeout\u001b[49m\u001b[43m)\u001b[49m\n\u001b[1;32m    453\u001b[0m \u001b[38;5;28;01mif\u001b[39;00m \u001b[38;5;28mself\u001b[39m\u001b[38;5;241m.\u001b[39m_state \u001b[38;5;129;01min\u001b[39;00m [CANCELLED, CANCELLED_AND_NOTIFIED]:\n\u001b[1;32m    454\u001b[0m     \u001b[38;5;28;01mraise\u001b[39;00m CancelledError()\n",
      "File \u001b[0;32m~/anaconda3/envs/nlp/lib/python3.12/threading.py:355\u001b[0m, in \u001b[0;36mCondition.wait\u001b[0;34m(self, timeout)\u001b[0m\n\u001b[1;32m    353\u001b[0m \u001b[38;5;28;01mtry\u001b[39;00m:    \u001b[38;5;66;03m# restore state no matter what (e.g., KeyboardInterrupt)\u001b[39;00m\n\u001b[1;32m    354\u001b[0m     \u001b[38;5;28;01mif\u001b[39;00m timeout \u001b[38;5;129;01mis\u001b[39;00m \u001b[38;5;28;01mNone\u001b[39;00m:\n\u001b[0;32m--> 355\u001b[0m         \u001b[43mwaiter\u001b[49m\u001b[38;5;241;43m.\u001b[39;49m\u001b[43macquire\u001b[49m\u001b[43m(\u001b[49m\u001b[43m)\u001b[49m\n\u001b[1;32m    356\u001b[0m         gotit \u001b[38;5;241m=\u001b[39m \u001b[38;5;28;01mTrue\u001b[39;00m\n\u001b[1;32m    357\u001b[0m     \u001b[38;5;28;01melse\u001b[39;00m:\n",
      "\u001b[0;31mKeyboardInterrupt\u001b[0m: "
     ]
    }
   ],
   "source": [
    "dataset_name = \"wikimedia/wikipedia\"\n",
    "version = \"20231101.en\"\n",
    "cache_dir = \"/share/goyal/lio/dataset/huggingface\"\n",
    "ds = load_dataset(dataset_name, version, cache_dir=cache_dir)"
   ]
  },
  {
   "cell_type": "code",
   "execution_count": 123,
   "id": "7e42a849",
   "metadata": {},
   "outputs": [],
   "source": [
    "sampled_dataset = ds['train'].shuffle(seed=42).select(range(50000))\n",
    "filename = '/share/goyal/lio/dataset/huggingface/wikipedia_20231101.en_sample_n=50000_seed=42'"
   ]
  },
  {
   "cell_type": "code",
   "execution_count": 124,
   "id": "1b0852f9",
   "metadata": {},
   "outputs": [
    {
     "data": {
      "application/vnd.jupyter.widget-view+json": {
       "model_id": "09a48e0056c046dcb8c8f6926b19758f",
       "version_major": 2,
       "version_minor": 0
      },
      "text/plain": [
       "Saving the dataset (0/1 shards):   0%|          | 0/50000 [00:00<?, ? examples/s]"
      ]
     },
     "metadata": {},
     "output_type": "display_data"
    }
   ],
   "source": [
    "sampled_dataset.save_to_disk(filename)"
   ]
  },
  {
   "cell_type": "code",
   "execution_count": 121,
   "id": "e47155b2",
   "metadata": {},
   "outputs": [],
   "source": [
    "sampled_dataset = load_from_disk(filename)"
   ]
  },
  {
   "cell_type": "code",
   "execution_count": 125,
   "id": "9205c2ba",
   "metadata": {},
   "outputs": [
    {
     "data": {
      "text/plain": [
       "'/home/al2644/research/codebase/wikidata'"
      ]
     },
     "execution_count": 125,
     "metadata": {},
     "output_type": "execute_result"
    }
   ],
   "source": [
    "pwd"
   ]
  },
  {
   "cell_type": "markdown",
   "id": "eaffe3af",
   "metadata": {},
   "source": [
    "# Selected Sample"
   ]
  },
  {
   "cell_type": "code",
   "execution_count": 8,
   "id": "adb0478c",
   "metadata": {},
   "outputs": [],
   "source": [
    "sys.path.insert(0 ,'/home/al2644/research')"
   ]
  },
  {
   "cell_type": "code",
   "execution_count": 9,
   "id": "dfe02ebd",
   "metadata": {},
   "outputs": [
    {
     "data": {
      "text/plain": [
       "<module 'codebase.wiki_entities_knowledge.prompts' from '/home/al2644/research/codebase/wiki_entities_knowledge/prompts.py'>"
      ]
     },
     "execution_count": 9,
     "metadata": {},
     "output_type": "execute_result"
    }
   ],
   "source": [
    "from codebase.wiki_entities_knowledge import prompts\n",
    "import importlib; importlib.reload(prompts)\n",
    "import openaiAPI\n",
    "\n",
    "from openaiAPI import generate_response\n",
    "from codebase.wiki_entities_knowledge import prompts\n",
    "from codebase.wiki_entities_knowledge.prompts import *\n",
    "import importlib; importlib.reload(prompts)"
   ]
  },
  {
   "cell_type": "code",
   "execution_count": 12,
   "id": "13e8b21e",
   "metadata": {},
   "outputs": [],
   "source": [
    "root = '/share/goyal/lio/knowledge_update/wikipedia/20231101.en/'\n",
    "filename = 'select_sample_input.csv'\n",
    "input_df = pd.read_csv(os.path.join(root, filename))"
   ]
  },
  {
   "cell_type": "markdown",
   "id": "c6543082",
   "metadata": {},
   "source": [
    "# Init Wiki"
   ]
  },
  {
   "cell_type": "code",
   "execution_count": 20,
   "id": "bbdcac9c",
   "metadata": {
    "scrolled": true
   },
   "outputs": [
    {
     "data": {
      "text/html": [
       "<div>\n",
       "<style scoped>\n",
       "    .dataframe tbody tr th:only-of-type {\n",
       "        vertical-align: middle;\n",
       "    }\n",
       "\n",
       "    .dataframe tbody tr th {\n",
       "        vertical-align: top;\n",
       "    }\n",
       "\n",
       "    .dataframe thead th {\n",
       "        text-align: right;\n",
       "    }\n",
       "</style>\n",
       "<table border=\"1\" class=\"dataframe\">\n",
       "  <thead>\n",
       "    <tr style=\"text-align: right;\">\n",
       "      <th></th>\n",
       "      <th>id</th>\n",
       "      <th>url</th>\n",
       "      <th>title</th>\n",
       "      <th>text</th>\n",
       "    </tr>\n",
       "  </thead>\n",
       "  <tbody>\n",
       "    <tr>\n",
       "      <th>0</th>\n",
       "      <td>2076</td>\n",
       "      <td>https://en.wikipedia.org/wiki/Acropolis%20of%2...</td>\n",
       "      <td>Acropolis of Athens</td>\n",
       "      <td>The Acropolis of Athens (; ) is an ancient cit...</td>\n",
       "    </tr>\n",
       "    <tr>\n",
       "      <th>1</th>\n",
       "      <td>4675</td>\n",
       "      <td>https://en.wikipedia.org/wiki/British%20Museum</td>\n",
       "      <td>British Museum</td>\n",
       "      <td>The British Museum is a public museum dedicate...</td>\n",
       "    </tr>\n",
       "    <tr>\n",
       "      <th>2</th>\n",
       "      <td>4848143</td>\n",
       "      <td>https://en.wikipedia.org/wiki/New%20York%20Yan...</td>\n",
       "      <td>New York Yankees</td>\n",
       "      <td>The New York Yankees are an American professio...</td>\n",
       "    </tr>\n",
       "    <tr>\n",
       "      <th>3</th>\n",
       "      <td>5422657</td>\n",
       "      <td>https://en.wikipedia.org/wiki/Cayan%20Tower</td>\n",
       "      <td>Cayan Tower</td>\n",
       "      <td>Cayan Tower, known as Infinity Tower before it...</td>\n",
       "    </tr>\n",
       "    <tr>\n",
       "      <th>4</th>\n",
       "      <td>5823201</td>\n",
       "      <td>https://en.wikipedia.org/wiki/Brenner%20Base%2...</td>\n",
       "      <td>Brenner Base Tunnel</td>\n",
       "      <td>The Brenner Base Tunnel (; ) is a  railway tun...</td>\n",
       "    </tr>\n",
       "    <tr>\n",
       "      <th>5</th>\n",
       "      <td>7688189</td>\n",
       "      <td>https://en.wikipedia.org/wiki/Oktoberfest</td>\n",
       "      <td>Oktoberfest</td>\n",
       "      <td>Oktoberfest (; ) is the world's largest Volksf...</td>\n",
       "    </tr>\n",
       "    <tr>\n",
       "      <th>6</th>\n",
       "      <td>7954422</td>\n",
       "      <td>https://en.wikipedia.org/wiki/Cornell%20Univer...</td>\n",
       "      <td>Cornell University</td>\n",
       "      <td>Cornell University is a private Ivy League lan...</td>\n",
       "    </tr>\n",
       "    <tr>\n",
       "      <th>7</th>\n",
       "      <td>12279110</td>\n",
       "      <td>https://en.wikipedia.org/wiki/Bill%20Ackman</td>\n",
       "      <td>Bill Ackman</td>\n",
       "      <td>William Albert Ackman (born May 11, 1966) is a...</td>\n",
       "    </tr>\n",
       "    <tr>\n",
       "      <th>8</th>\n",
       "      <td>15658254</td>\n",
       "      <td>https://en.wikipedia.org/wiki/Fast%20%26%20Fur...</td>\n",
       "      <td>Fast &amp; Furious</td>\n",
       "      <td>Fast &amp; Furious (also known as The Fast and the...</td>\n",
       "    </tr>\n",
       "    <tr>\n",
       "      <th>9</th>\n",
       "      <td>25173473</td>\n",
       "      <td>https://en.wikipedia.org/wiki/Sundar%20Pichai</td>\n",
       "      <td>Sundar Pichai</td>\n",
       "      <td>Pichai Sundararajan (born June 10, 1972), bett...</td>\n",
       "    </tr>\n",
       "    <tr>\n",
       "      <th>10</th>\n",
       "      <td>28249265</td>\n",
       "      <td>https://en.wikipedia.org/wiki/Bitcoin</td>\n",
       "      <td>Bitcoin</td>\n",
       "      <td>Bitcoin (abbreviation: BTC or XBT; sign: ₿) is...</td>\n",
       "    </tr>\n",
       "    <tr>\n",
       "      <th>11</th>\n",
       "      <td>28753159</td>\n",
       "      <td>https://en.wikipedia.org/wiki/Zendaya</td>\n",
       "      <td>Zendaya</td>\n",
       "      <td>Zendaya Maree Stoermer Coleman ( ; born Septem...</td>\n",
       "    </tr>\n",
       "    <tr>\n",
       "      <th>12</th>\n",
       "      <td>29156200</td>\n",
       "      <td>https://en.wikipedia.org/wiki/Waymo</td>\n",
       "      <td>Waymo</td>\n",
       "      <td>Waymo LLC, formerly known as the Google Self-D...</td>\n",
       "    </tr>\n",
       "    <tr>\n",
       "      <th>13</th>\n",
       "      <td>31211177</td>\n",
       "      <td>https://en.wikipedia.org/wiki/Rivian</td>\n",
       "      <td>Rivian</td>\n",
       "      <td>Rivian Automotive, Inc., is an American electr...</td>\n",
       "    </tr>\n",
       "    <tr>\n",
       "      <th>14</th>\n",
       "      <td>64487</td>\n",
       "      <td>https://en.wikipedia.org/wiki/Tour%20Montparnasse</td>\n",
       "      <td>Tour Montparnasse</td>\n",
       "      <td>Tour Maine-Montparnasse (Maine-Montparnasse To...</td>\n",
       "    </tr>\n",
       "    <tr>\n",
       "      <th>15</th>\n",
       "      <td>65828</td>\n",
       "      <td>https://en.wikipedia.org/wiki/Smithsonian%20In...</td>\n",
       "      <td>Smithsonian Institution</td>\n",
       "      <td>The Smithsonian Institution ( ), or simply the...</td>\n",
       "    </tr>\n",
       "    <tr>\n",
       "      <th>16</th>\n",
       "      <td>72595</td>\n",
       "      <td>https://en.wikipedia.org/wiki/Tsinghua%20Unive...</td>\n",
       "      <td>Tsinghua University</td>\n",
       "      <td>Tsinghua University (; THU) is a national publ...</td>\n",
       "    </tr>\n",
       "    <tr>\n",
       "      <th>17</th>\n",
       "      <td>72891</td>\n",
       "      <td>https://en.wikipedia.org/wiki/Golden%20State%2...</td>\n",
       "      <td>Golden State Warriors</td>\n",
       "      <td>The Golden State Warriors are an American prof...</td>\n",
       "    </tr>\n",
       "    <tr>\n",
       "      <th>18</th>\n",
       "      <td>80019</td>\n",
       "      <td>https://en.wikipedia.org/wiki/Machu%20Picchu</td>\n",
       "      <td>Machu Picchu</td>\n",
       "      <td>Machu Picchu is a 15th-century Inca citadel lo...</td>\n",
       "    </tr>\n",
       "    <tr>\n",
       "      <th>19</th>\n",
       "      <td>97058</td>\n",
       "      <td>https://en.wikipedia.org/wiki/Temu</td>\n",
       "      <td>Temu</td>\n",
       "      <td>Temu may refer to:\\n Temu, the evening form of...</td>\n",
       "    </tr>\n",
       "    <tr>\n",
       "      <th>20</th>\n",
       "      <td>41754003</td>\n",
       "      <td>https://en.wikipedia.org/wiki/Ethereum</td>\n",
       "      <td>Ethereum</td>\n",
       "      <td>Ethereum is a decentralized blockchain with sm...</td>\n",
       "    </tr>\n",
       "    <tr>\n",
       "      <th>21</th>\n",
       "      <td>46301800</td>\n",
       "      <td>https://en.wikipedia.org/wiki/Stranger%20Things</td>\n",
       "      <td>Stranger Things</td>\n",
       "      <td>Stranger Things is an American science fiction...</td>\n",
       "    </tr>\n",
       "    <tr>\n",
       "      <th>22</th>\n",
       "      <td>53769234</td>\n",
       "      <td>https://en.wikipedia.org/wiki/John%20Wick</td>\n",
       "      <td>John Wick</td>\n",
       "      <td>John Wick is an American neo-noir action thril...</td>\n",
       "    </tr>\n",
       "    <tr>\n",
       "      <th>23</th>\n",
       "      <td>53785363</td>\n",
       "      <td>https://en.wikipedia.org/wiki/Billie%20Eilish</td>\n",
       "      <td>Billie Eilish</td>\n",
       "      <td>Billie Eilish Pirate Baird O'Connell ( ; born ...</td>\n",
       "    </tr>\n",
       "    <tr>\n",
       "      <th>24</th>\n",
       "      <td>58031267</td>\n",
       "      <td>https://en.wikipedia.org/wiki/Euphoria%20%28Am...</td>\n",
       "      <td>Euphoria (American TV series)</td>\n",
       "      <td>Euphoria is an American teen drama television ...</td>\n",
       "    </tr>\n",
       "    <tr>\n",
       "      <th>25</th>\n",
       "      <td>59214935</td>\n",
       "      <td>https://en.wikipedia.org/wiki/Greta%20Thunberg</td>\n",
       "      <td>Greta Thunberg</td>\n",
       "      <td>Greta Tintin Eleonora Ernman Thunberg (; born ...</td>\n",
       "    </tr>\n",
       "    <tr>\n",
       "      <th>26</th>\n",
       "      <td>60758751</td>\n",
       "      <td>https://en.wikipedia.org/wiki/Artemis%20program</td>\n",
       "      <td>Artemis program</td>\n",
       "      <td>The Artemis program is a robotic and human Moo...</td>\n",
       "    </tr>\n",
       "    <tr>\n",
       "      <th>27</th>\n",
       "      <td>161591</td>\n",
       "      <td>https://en.wikipedia.org/wiki/Singapore%20Airl...</td>\n",
       "      <td>Singapore Airlines</td>\n",
       "      <td>Singapore Airlines (abbreviation: SIA or SQ) i...</td>\n",
       "    </tr>\n",
       "    <tr>\n",
       "      <th>28</th>\n",
       "      <td>172185</td>\n",
       "      <td>https://en.wikipedia.org/wiki/World%20Economic...</td>\n",
       "      <td>World Economic Forum</td>\n",
       "      <td>The World Economic Forum (WEF) is an internati...</td>\n",
       "    </tr>\n",
       "    <tr>\n",
       "      <th>29</th>\n",
       "      <td>186177</td>\n",
       "      <td>https://en.wikipedia.org/wiki/Diwali</td>\n",
       "      <td>Diwali</td>\n",
       "      <td>Diwali (; Deepavali (IAST: dīpāvalī) or Divali...</td>\n",
       "    </tr>\n",
       "    <tr>\n",
       "      <th>30</th>\n",
       "      <td>203801</td>\n",
       "      <td>https://en.wikipedia.org/wiki/Taipei%20101</td>\n",
       "      <td>Taipei 101</td>\n",
       "      <td>Taipei 101 (; stylized in all caps), formerly ...</td>\n",
       "    </tr>\n",
       "    <tr>\n",
       "      <th>31</th>\n",
       "      <td>211518</td>\n",
       "      <td>https://en.wikipedia.org/wiki/Warren%20Buffett</td>\n",
       "      <td>Warren Buffett</td>\n",
       "      <td>Warren Edward Buffett ( ; born August 30, 1930...</td>\n",
       "    </tr>\n",
       "    <tr>\n",
       "      <th>32</th>\n",
       "      <td>240940</td>\n",
       "      <td>https://en.wikipedia.org/wiki/LeBron%20James</td>\n",
       "      <td>LeBron James</td>\n",
       "      <td>LeBron Raymone James Sr. ( ; born December 30,...</td>\n",
       "    </tr>\n",
       "    <tr>\n",
       "      <th>33</th>\n",
       "      <td>451733</td>\n",
       "      <td>https://en.wikipedia.org/wiki/Justin%20Trudeau</td>\n",
       "      <td>Justin Trudeau</td>\n",
       "      <td>Justin Pierre James Trudeau  ( , ; born Decemb...</td>\n",
       "    </tr>\n",
       "    <tr>\n",
       "      <th>34</th>\n",
       "      <td>523032</td>\n",
       "      <td>https://en.wikipedia.org/wiki/Kanye%20West</td>\n",
       "      <td>Kanye West</td>\n",
       "      <td>Ye ( ; born Kanye Omari West  ; June 8, 1977) ...</td>\n",
       "    </tr>\n",
       "    <tr>\n",
       "      <th>35</th>\n",
       "      <td>617552</td>\n",
       "      <td>https://en.wikipedia.org/wiki/SETI%20Institute</td>\n",
       "      <td>SETI Institute</td>\n",
       "      <td>The SETI Institute is a not-for-profit researc...</td>\n",
       "    </tr>\n",
       "    <tr>\n",
       "      <th>36</th>\n",
       "      <td>1196634</td>\n",
       "      <td>https://en.wikipedia.org/wiki/G7</td>\n",
       "      <td>G7</td>\n",
       "      <td>The Group of Seven (G7) is an intergovernmenta...</td>\n",
       "    </tr>\n",
       "    <tr>\n",
       "      <th>37</th>\n",
       "      <td>1266144</td>\n",
       "      <td>https://en.wikipedia.org/wiki/California%20Hig...</td>\n",
       "      <td>California High-Speed Rail</td>\n",
       "      <td>California High-Speed Rail (also known as CAHS...</td>\n",
       "    </tr>\n",
       "    <tr>\n",
       "      <th>38</th>\n",
       "      <td>1981544</td>\n",
       "      <td>https://en.wikipedia.org/wiki/Point72%20Asset%...</td>\n",
       "      <td>Point72 Asset Management</td>\n",
       "      <td>Point72 Asset Management, is an American hedge...</td>\n",
       "    </tr>\n",
       "    <tr>\n",
       "      <th>39</th>\n",
       "      <td>2430273</td>\n",
       "      <td>https://en.wikipedia.org/wiki/Alibaba%20Group</td>\n",
       "      <td>Alibaba Group</td>\n",
       "      <td>Alibaba Group Holding Limited, or Alibaba (), ...</td>\n",
       "    </tr>\n",
       "  </tbody>\n",
       "</table>\n",
       "</div>"
      ],
      "text/plain": [
       "          id                                                url  \\\n",
       "0       2076  https://en.wikipedia.org/wiki/Acropolis%20of%2...   \n",
       "1       4675     https://en.wikipedia.org/wiki/British%20Museum   \n",
       "2    4848143  https://en.wikipedia.org/wiki/New%20York%20Yan...   \n",
       "3    5422657        https://en.wikipedia.org/wiki/Cayan%20Tower   \n",
       "4    5823201  https://en.wikipedia.org/wiki/Brenner%20Base%2...   \n",
       "5    7688189          https://en.wikipedia.org/wiki/Oktoberfest   \n",
       "6    7954422  https://en.wikipedia.org/wiki/Cornell%20Univer...   \n",
       "7   12279110        https://en.wikipedia.org/wiki/Bill%20Ackman   \n",
       "8   15658254  https://en.wikipedia.org/wiki/Fast%20%26%20Fur...   \n",
       "9   25173473      https://en.wikipedia.org/wiki/Sundar%20Pichai   \n",
       "10  28249265              https://en.wikipedia.org/wiki/Bitcoin   \n",
       "11  28753159              https://en.wikipedia.org/wiki/Zendaya   \n",
       "12  29156200                https://en.wikipedia.org/wiki/Waymo   \n",
       "13  31211177               https://en.wikipedia.org/wiki/Rivian   \n",
       "14     64487  https://en.wikipedia.org/wiki/Tour%20Montparnasse   \n",
       "15     65828  https://en.wikipedia.org/wiki/Smithsonian%20In...   \n",
       "16     72595  https://en.wikipedia.org/wiki/Tsinghua%20Unive...   \n",
       "17     72891  https://en.wikipedia.org/wiki/Golden%20State%2...   \n",
       "18     80019       https://en.wikipedia.org/wiki/Machu%20Picchu   \n",
       "19     97058                 https://en.wikipedia.org/wiki/Temu   \n",
       "20  41754003             https://en.wikipedia.org/wiki/Ethereum   \n",
       "21  46301800    https://en.wikipedia.org/wiki/Stranger%20Things   \n",
       "22  53769234          https://en.wikipedia.org/wiki/John%20Wick   \n",
       "23  53785363      https://en.wikipedia.org/wiki/Billie%20Eilish   \n",
       "24  58031267  https://en.wikipedia.org/wiki/Euphoria%20%28Am...   \n",
       "25  59214935     https://en.wikipedia.org/wiki/Greta%20Thunberg   \n",
       "26  60758751    https://en.wikipedia.org/wiki/Artemis%20program   \n",
       "27    161591  https://en.wikipedia.org/wiki/Singapore%20Airl...   \n",
       "28    172185  https://en.wikipedia.org/wiki/World%20Economic...   \n",
       "29    186177               https://en.wikipedia.org/wiki/Diwali   \n",
       "30    203801         https://en.wikipedia.org/wiki/Taipei%20101   \n",
       "31    211518     https://en.wikipedia.org/wiki/Warren%20Buffett   \n",
       "32    240940       https://en.wikipedia.org/wiki/LeBron%20James   \n",
       "33    451733     https://en.wikipedia.org/wiki/Justin%20Trudeau   \n",
       "34    523032         https://en.wikipedia.org/wiki/Kanye%20West   \n",
       "35    617552     https://en.wikipedia.org/wiki/SETI%20Institute   \n",
       "36   1196634                   https://en.wikipedia.org/wiki/G7   \n",
       "37   1266144  https://en.wikipedia.org/wiki/California%20Hig...   \n",
       "38   1981544  https://en.wikipedia.org/wiki/Point72%20Asset%...   \n",
       "39   2430273      https://en.wikipedia.org/wiki/Alibaba%20Group   \n",
       "\n",
       "                            title  \\\n",
       "0             Acropolis of Athens   \n",
       "1                  British Museum   \n",
       "2                New York Yankees   \n",
       "3                     Cayan Tower   \n",
       "4             Brenner Base Tunnel   \n",
       "5                     Oktoberfest   \n",
       "6              Cornell University   \n",
       "7                     Bill Ackman   \n",
       "8                  Fast & Furious   \n",
       "9                   Sundar Pichai   \n",
       "10                        Bitcoin   \n",
       "11                        Zendaya   \n",
       "12                          Waymo   \n",
       "13                         Rivian   \n",
       "14              Tour Montparnasse   \n",
       "15        Smithsonian Institution   \n",
       "16            Tsinghua University   \n",
       "17          Golden State Warriors   \n",
       "18                   Machu Picchu   \n",
       "19                           Temu   \n",
       "20                       Ethereum   \n",
       "21                Stranger Things   \n",
       "22                      John Wick   \n",
       "23                  Billie Eilish   \n",
       "24  Euphoria (American TV series)   \n",
       "25                 Greta Thunberg   \n",
       "26                Artemis program   \n",
       "27             Singapore Airlines   \n",
       "28           World Economic Forum   \n",
       "29                         Diwali   \n",
       "30                     Taipei 101   \n",
       "31                 Warren Buffett   \n",
       "32                   LeBron James   \n",
       "33                 Justin Trudeau   \n",
       "34                     Kanye West   \n",
       "35                 SETI Institute   \n",
       "36                             G7   \n",
       "37     California High-Speed Rail   \n",
       "38       Point72 Asset Management   \n",
       "39                  Alibaba Group   \n",
       "\n",
       "                                                 text  \n",
       "0   The Acropolis of Athens (; ) is an ancient cit...  \n",
       "1   The British Museum is a public museum dedicate...  \n",
       "2   The New York Yankees are an American professio...  \n",
       "3   Cayan Tower, known as Infinity Tower before it...  \n",
       "4   The Brenner Base Tunnel (; ) is a  railway tun...  \n",
       "5   Oktoberfest (; ) is the world's largest Volksf...  \n",
       "6   Cornell University is a private Ivy League lan...  \n",
       "7   William Albert Ackman (born May 11, 1966) is a...  \n",
       "8   Fast & Furious (also known as The Fast and the...  \n",
       "9   Pichai Sundararajan (born June 10, 1972), bett...  \n",
       "10  Bitcoin (abbreviation: BTC or XBT; sign: ₿) is...  \n",
       "11  Zendaya Maree Stoermer Coleman ( ; born Septem...  \n",
       "12  Waymo LLC, formerly known as the Google Self-D...  \n",
       "13  Rivian Automotive, Inc., is an American electr...  \n",
       "14  Tour Maine-Montparnasse (Maine-Montparnasse To...  \n",
       "15  The Smithsonian Institution ( ), or simply the...  \n",
       "16  Tsinghua University (; THU) is a national publ...  \n",
       "17  The Golden State Warriors are an American prof...  \n",
       "18  Machu Picchu is a 15th-century Inca citadel lo...  \n",
       "19  Temu may refer to:\\n Temu, the evening form of...  \n",
       "20  Ethereum is a decentralized blockchain with sm...  \n",
       "21  Stranger Things is an American science fiction...  \n",
       "22  John Wick is an American neo-noir action thril...  \n",
       "23  Billie Eilish Pirate Baird O'Connell ( ; born ...  \n",
       "24  Euphoria is an American teen drama television ...  \n",
       "25  Greta Tintin Eleonora Ernman Thunberg (; born ...  \n",
       "26  The Artemis program is a robotic and human Moo...  \n",
       "27  Singapore Airlines (abbreviation: SIA or SQ) i...  \n",
       "28  The World Economic Forum (WEF) is an internati...  \n",
       "29  Diwali (; Deepavali (IAST: dīpāvalī) or Divali...  \n",
       "30  Taipei 101 (; stylized in all caps), formerly ...  \n",
       "31  Warren Edward Buffett ( ; born August 30, 1930...  \n",
       "32  LeBron Raymone James Sr. ( ; born December 30,...  \n",
       "33  Justin Pierre James Trudeau  ( , ; born Decemb...  \n",
       "34  Ye ( ; born Kanye Omari West  ; June 8, 1977) ...  \n",
       "35  The SETI Institute is a not-for-profit researc...  \n",
       "36  The Group of Seven (G7) is an intergovernmenta...  \n",
       "37  California High-Speed Rail (also known as CAHS...  \n",
       "38  Point72 Asset Management, is an American hedge...  \n",
       "39  Alibaba Group Holding Limited, or Alibaba (), ...  "
      ]
     },
     "execution_count": 20,
     "metadata": {},
     "output_type": "execute_result"
    }
   ],
   "source": [
    "input_df"
   ]
  },
  {
   "cell_type": "code",
   "execution_count": 15,
   "id": "4c780223",
   "metadata": {},
   "outputs": [],
   "source": [
    "agent = 'knowledgeupdate (lac13641361467@gmail.com)'"
   ]
  },
  {
   "cell_type": "code",
   "execution_count": 16,
   "id": "ceb97742",
   "metadata": {},
   "outputs": [],
   "source": [
    "wiki = wikipediaapi.Wikipedia(agent, 'en')  # 'en' for English Wikipedia\n",
    "\n",
    "# Replace with the desired page title\n",
    "page_title = \"Python_(programming_language)\"\n",
    "page = wiki.page(page_title)"
   ]
  },
  {
   "cell_type": "code",
   "execution_count": 53,
   "id": "68679fca",
   "metadata": {
    "scrolled": true
   },
   "outputs": [
    {
     "name": "stdout",
     "output_type": "stream",
     "text": [
      "AttrDict({'items': [{'project': 'en.wikipedia', 'article': 'Acropolis_of_Athens', 'granularity': 'monthly', 'timestamp': '2022120100', 'access': 'all-access', 'agent': 'all-agents', 'views': 59344}, {'project': 'en.wikipedia', 'article': 'Acropolis_of_Athens', 'granularity': 'monthly', 'timestamp': '2023010100', 'access': 'all-access', 'agent': 'all-agents', 'views': 78919}, {'project': 'en.wikipedia', 'article': 'Acropolis_of_Athens', 'granularity': 'monthly', 'timestamp': '2023020100', 'access': 'all-access', 'agent': 'all-agents', 'views': 66345}, {'project': 'en.wikipedia', 'article': 'Acropolis_of_Athens', 'granularity': 'monthly', 'timestamp': '2023030100', 'access': 'all-access', 'agent': 'all-agents', 'views': 81851}, {'project': 'en.wikipedia', 'article': 'Acropolis_of_Athens', 'granularity': 'monthly', 'timestamp': '2023040100', 'access': 'all-access', 'agent': 'all-agents', 'views': 79059}, {'project': 'en.wikipedia', 'article': 'Acropolis_of_Athens', 'granularity': 'monthly', 'timestamp': '2023050100', 'access': 'all-access', 'agent': 'all-agents', 'views': 101641}, {'project': 'en.wikipedia', 'article': 'Acropolis_of_Athens', 'granularity': 'monthly', 'timestamp': '2023060100', 'access': 'all-access', 'agent': 'all-agents', 'views': 118723}, {'project': 'en.wikipedia', 'article': 'Acropolis_of_Athens', 'granularity': 'monthly', 'timestamp': '2023070100', 'access': 'all-access', 'agent': 'all-agents', 'views': 121618}, {'project': 'en.wikipedia', 'article': 'Acropolis_of_Athens', 'granularity': 'monthly', 'timestamp': '2023080100', 'access': 'all-access', 'agent': 'all-agents', 'views': 90909}, {'project': 'en.wikipedia', 'article': 'Acropolis_of_Athens', 'granularity': 'monthly', 'timestamp': '2023090100', 'access': 'all-access', 'agent': 'all-agents', 'views': 95883}, {'project': 'en.wikipedia', 'article': 'Acropolis_of_Athens', 'granularity': 'monthly', 'timestamp': '2023100100', 'access': 'all-access', 'agent': 'all-agents', 'views': 89898}, {'project': 'en.wikipedia', 'article': 'Acropolis_of_Athens', 'granularity': 'monthly', 'timestamp': '2023110100', 'access': 'all-access', 'agent': 'all-agents', 'views': 72073}]})\n"
     ]
    }
   ],
   "source": [
    "import pageviewapi\n",
    "\n",
    "# Replace this with your Wikipedia page title\n",
    "title = 'Acropolis of Athens'\n",
    "\n",
    "# Define the start and end dates in 'YYYYMMDD' format\n",
    "start_date = '20221201'  # Start date (YYYYMMDD)\n",
    "end_date = '20231130'    # End date (YYYYMMDD)\n",
    "\n",
    "# Fetch the monthly page views\n",
    "views = pageviewapi.per_article(\n",
    "    'en.wikipedia',      # The language and project (e.g., 'en.wikipedia')\n",
    "    title,               # The title of the Wikipedia page\n",
    "    start_date,          # Start date in 'YYYYMMDD' format\n",
    "    end_date,            # End date in 'YYYYMMDD' format\n",
    "    access='all-access', # 'all-access', 'desktop', 'mobile-app', or 'mobile-web'\n",
    "    agent='all-agents',  # 'all-agents', 'user', 'spider', or 'bot'\n",
    "    granularity='monthly'  # 'daily' or 'monthly'\n",
    ")\n",
    "\n",
    "# The 'views' variable now contains the page views data\n",
    "print(views)\n"
   ]
  },
  {
   "cell_type": "code",
   "execution_count": 60,
   "id": "0d505d07",
   "metadata": {
    "scrolled": false
   },
   "outputs": [
    {
     "data": {
      "text/plain": [
       "88021.91666666667"
      ]
     },
     "execution_count": 60,
     "metadata": {},
     "output_type": "execute_result"
    }
   ],
   "source": [
    "pd.DataFrame(views['items'])['views'].mean()"
   ]
  },
  {
   "cell_type": "code",
   "execution_count": 70,
   "id": "618af9d1",
   "metadata": {},
   "outputs": [],
   "source": [
    "from codebase.wikidata import get_wiki_data\n",
    "import importlib; importlib.reload(get_wiki_data)\n",
    "avg_view = get_wiki_data.get_monthly_avg_pageviews(title)"
   ]
  },
  {
   "cell_type": "code",
   "execution_count": 71,
   "id": "3ba1783c",
   "metadata": {},
   "outputs": [
    {
     "data": {
      "text/plain": [
       "88021.91666666667"
      ]
     },
     "execution_count": 71,
     "metadata": {},
     "output_type": "execute_result"
    }
   ],
   "source": [
    "avg_view"
   ]
  },
  {
   "cell_type": "code",
   "execution_count": 90,
   "id": "95170fa5",
   "metadata": {},
   "outputs": [],
   "source": [
    "file_path = '/share/goyal/lio/knowledge_update/wikipedia/wiki_pageview/monthly_avg_20221201_20231130_page_view.pickle'"
   ]
  },
  {
   "cell_type": "code",
   "execution_count": 91,
   "id": "a27b2a7e",
   "metadata": {},
   "outputs": [],
   "source": [
    "import pickle\n",
    "\n",
    "def append_to_pickle(file_path, new_data):\n",
    "    \"\"\"\n",
    "    Append a dictionary to an existing pickle file as a new entry.\n",
    "    \n",
    "    Args:\n",
    "    - file_path (str): Path to the pickle file.\n",
    "    - new_data (dict): Dictionary to append to the pickle file.\n",
    "    \"\"\"\n",
    "    with open(file_path, 'ab') as f:  # 'ab' mode appends in binary format\n",
    "        pickle.dump(new_data, f)"
   ]
  },
  {
   "cell_type": "code",
   "execution_count": 93,
   "id": "8a8bb892",
   "metadata": {},
   "outputs": [],
   "source": [
    "data = {'b': 1}\n",
    "append_to_pickle(file_path, data)"
   ]
  },
  {
   "cell_type": "code",
   "execution_count": 96,
   "id": "c8875845",
   "metadata": {},
   "outputs": [],
   "source": [
    "with open(file_path, 'rb') as f:\n",
    "    result = pickle.load(f)"
   ]
  },
  {
   "cell_type": "code",
   "execution_count": 97,
   "id": "7960cb77",
   "metadata": {},
   "outputs": [
    {
     "data": {
      "text/plain": [
       "{'a': 0}"
      ]
     },
     "execution_count": 97,
     "metadata": {},
     "output_type": "execute_result"
    }
   ],
   "source": [
    "result"
   ]
  }
 ],
 "metadata": {
  "kernelspec": {
   "display_name": "Python 3 (ipykernel)",
   "language": "python",
   "name": "python3"
  },
  "language_info": {
   "codemirror_mode": {
    "name": "ipython",
    "version": 3
   },
   "file_extension": ".py",
   "mimetype": "text/x-python",
   "name": "python",
   "nbconvert_exporter": "python",
   "pygments_lexer": "ipython3",
   "version": "3.12.4"
  }
 },
 "nbformat": 4,
 "nbformat_minor": 5
}
