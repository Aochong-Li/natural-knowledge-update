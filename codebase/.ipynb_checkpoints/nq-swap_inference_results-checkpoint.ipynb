{
 "cells": [
  {
   "cell_type": "code",
   "execution_count": 9,
   "id": "e9e99ac6",
   "metadata": {},
   "outputs": [],
   "source": [
    "import os\n",
    "import re\n",
    "import time\n",
    "import datetime\n",
    "import json\n",
    "import csv\n",
    "\n",
    "import pandas as pd\n",
    "from tqdm import tqdm\n",
    "## read/write pickle\n",
    "\n",
    "import pickle\n",
    "import pandas as pd\n",
    "\n",
    "from openai import OpenAI\n",
    "import tiktoken\n",
    "import gzip\n",
    "import seaborn as sns\n",
    "import numpy as np\n",
    "import ast"
   ]
  },
  {
   "cell_type": "code",
   "execution_count": 2,
   "id": "c3e1ca9d",
   "metadata": {},
   "outputs": [],
   "source": [
    "from transformers import AutoTokenizer, AutoModelForCausalLM"
   ]
  },
  {
   "cell_type": "code",
   "execution_count": 3,
   "id": "8c65b260",
   "metadata": {},
   "outputs": [
    {
     "data": {
      "text/plain": [
       "<module 'read_nqswap_dataset' from '/home/al2644/research/codebase/read_nqswap_dataset.py'>"
      ]
     },
     "execution_count": 3,
     "metadata": {},
     "output_type": "execute_result"
    }
   ],
   "source": [
    "import nq_swap_inference as inference\n",
    "import read_nqswap_dataset as read_ds\n",
    "import string_utils\n",
    "import constants\n",
    "\n",
    "import importlib\n",
    "importlib.reload(read_ds)"
   ]
  },
  {
   "cell_type": "code",
   "execution_count": 37,
   "id": "64a81723",
   "metadata": {},
   "outputs": [],
   "source": [
    "import seaborn as sns\n",
    "sns.set_theme(rc={'figure.figsize':(11.7,8.27)})"
   ]
  },
  {
   "cell_type": "code",
   "execution_count": 5,
   "id": "67c211d6",
   "metadata": {},
   "outputs": [],
   "source": [
    "tokenizer = AutoTokenizer.from_pretrained(\"meta-llama/Llama-2-7b-chat-hf\", padding_side = 'left')"
   ]
  },
  {
   "cell_type": "markdown",
   "id": "b124e1cc",
   "metadata": {},
   "source": [
    "# Sept 26"
   ]
  },
  {
   "cell_type": "markdown",
   "id": "65a4ffa7",
   "metadata": {},
   "source": [
    "## Raw Dataset"
   ]
  },
  {
   "cell_type": "code",
   "execution_count": 6,
   "id": "d91ea588",
   "metadata": {},
   "outputs": [],
   "source": [
    "def get_raw_df (dataset_name, with_context, teacher_forcing_dataset_name = None):\n",
    "    df = read_ds.load_input_dataset(dataset_name=dataset_name, with_context=with_context,\n",
    "                        prefix_prompt=constants.PREFIX_PROMPT, teacher_forcing_dataset_name=None)\n",
    "    columns = ['query', 'ground_truth', 'input']\n",
    "    df = df[columns].drop_duplicates(subset=['input'])\n",
    "\n",
    "    return df"
   ]
  },
  {
   "cell_type": "code",
   "execution_count": 7,
   "id": "fbab90a3",
   "metadata": {
    "scrolled": true
   },
   "outputs": [],
   "source": [
    "raw_org_nocontext_df = get_raw_df('original', False)\n",
    "raw_org_context_df = get_raw_df('original', True)\n",
    "raw_sub_context_df = get_raw_df('corpus-substitution', True)"
   ]
  },
  {
   "cell_type": "code",
   "execution_count": 8,
   "id": "81cd45da",
   "metadata": {},
   "outputs": [],
   "source": [
    "'''find queries that can be substitued'''\n",
    "queries = list(raw_sub_context_df['query'].unique())\n",
    "raw_org_nocontext_df = raw_org_nocontext_df[raw_org_nocontext_df['query'].isin(queries)]\n",
    "raw_org_context_df = raw_org_context_df[raw_org_context_df['query'].isin(queries)]"
   ]
  },
  {
   "cell_type": "markdown",
   "id": "29a72bb5",
   "metadata": {},
   "source": [
    "## Inference"
   ]
  },
  {
   "cell_type": "code",
   "execution_count": 41,
   "id": "fc333881",
   "metadata": {},
   "outputs": [],
   "source": [
    "org_nocontext_df = read_ds.read_logprob_output(type = 'Dev', dataset_name='original', with_context=False)\n",
    "org_context_df = read_ds.read_logprob_output(type = 'Dev', dataset_name='original', with_context=True)\n",
    "sub_context_df = read_ds.read_logprob_output(type = 'Dev', dataset_name='corpus-substitution', with_context=True)"
   ]
  },
  {
   "cell_type": "markdown",
   "id": "7397cae9",
   "metadata": {},
   "source": [
    "## Teacher Forcing"
   ]
  },
  {
   "cell_type": "code",
   "execution_count": 42,
   "id": "be930597",
   "metadata": {
    "scrolled": true
   },
   "outputs": [],
   "source": [
    "org_nocontext_org_teacher_df = read_ds.read_logprob_output(type = 'Dev', dataset_name='original', with_context=False, teacher_dataset_name='original')\n",
    "org_context_org_teacher_df = read_ds.read_logprob_output(type = 'Dev', dataset_name='original', with_context=True, teacher_dataset_name='original')\n",
    "sub_context_org_teacher_df = read_ds.read_logprob_output(type = 'Dev', dataset_name='corpus-substitution', with_context=True, teacher_dataset_name='original')\n",
    "sub_context_sub_teacher_df = read_ds.read_logprob_output(type = 'Dev', dataset_name='corpus-substitution', with_context=True, teacher_dataset_name='corpus-substitution')"
   ]
  },
  {
   "cell_type": "markdown",
   "id": "8a2a7f6e",
   "metadata": {},
   "source": [
    "## Get Accuracy"
   ]
  },
  {
   "cell_type": "code",
   "execution_count": 12,
   "id": "c81fd8e8",
   "metadata": {},
   "outputs": [],
   "source": [
    "def get_accuracy (input_raw_df, input_inference_df, reference_name = 'ground_truth', test_name = 'decoded_answer'):\n",
    "    raw_df, inference_df = input_raw_df.copy(deep = True), input_inference_df.copy(deep = True)\n",
    "    df = raw_df.merge(inference_df, on = 'input')\n",
    "\n",
    "    df[f'{reference_name}_set'] = df[reference_name].apply(lambda x: set(sum([ans.split(' ') for ans in x], [])))\n",
    "    df[f'{test_name}_set'] = df[test_name].apply(lambda x: set(x.split(' ')))\n",
    "    df['match'] = df.apply(lambda row: len(row[f'{reference_name}_set'].intersection(row[f'{test_name}_set'])) > 0, axis = 1)\n",
    "\n",
    "    df.drop(columns = [f'{reference_name}_set', f'{test_name}_set'], inplace = True)\n",
    "\n",
    "    return df\n",
    "\n",
    "def get_logprob (input_raw_df, input_teacher_ans_logprob_df, reference_name = 'ground_truth', logprob_colname = 'teacher_answer_log_prob'):\n",
    "    raw_df, teacher_ans_logprob_df = input_raw_df.copy(deep = True), input_teacher_ans_logprob_df.copy(deep = True)\n",
    "    raw_df.drop(columns=[reference_name], inplace =True)\n",
    "    teacher_ans_max_logprob_df = teacher_ans_logprob_df.groupby('input')[logprob_colname].max().reset_index()\n",
    "    df = raw_df.merge(teacher_ans_max_logprob_df, on = ['input'])\n",
    "\n",
    "    return df"
   ]
  },
  {
   "cell_type": "code",
   "execution_count": 46,
   "id": "0f2a48d0",
   "metadata": {},
   "outputs": [],
   "source": [
    "def logprob_accuracy_match_ground_truth (raw_df, inference_df, teacher_ans_logprob_df):\n",
    "    acc_df = get_accuracy(raw_df, inference_df)\n",
    "    teacher_logprob_df = get_logprob(raw_df, teacher_ans_logprob_df)\n",
    "    acc_df.drop(columns = ['ground_truth', 'decoded_answer', 'inference_answer_log_prob'], inplace = True)\n",
    "\n",
    "    df = acc_df.merge(teacher_logprob_df, on = ['query', 'input'])\n",
    "\n",
    "    quantiles = [x / 100 for x in range(0, 110, 10)]\n",
    "    logprob_quantiles = df['teacher_answer_log_prob'].quantile(quantiles).reset_index().rename(columns = {'index': 'quantile', 'teacher_answer_log_prob': 'value'})\n",
    "    up, low = df['teacher_answer_log_prob'].quantile(0.99), df['teacher_answer_log_prob'].quantile(0.01)\n",
    "    df = df[df['teacher_answer_log_prob'].between(low, up)]\n",
    "\n",
    "    avg_logprob, avg_acc = [], []\n",
    "    for i in range(1, len(logprob_quantiles)):\n",
    "        chunk_df = df[df['teacher_answer_log_prob'].between(logprob_quantiles['value'].loc[i - 1], logprob_quantiles['value'][i])]\n",
    "        avg_logprob.append(chunk_df['teacher_answer_log_prob'].mean())\n",
    "        avg_acc.append(chunk_df['match'].sum() / len(chunk_df))\n",
    "    logprob_quantiles = logprob_quantiles[1:].reset_index(drop = True)\n",
    "    logprob_quantiles['avg_teacher_answer_logprob'] = avg_logprob\n",
    "    logprob_quantiles['avg_accuracy'] = avg_acc\n",
    "\n",
    "    return logprob_quantiles"
   ]
  },
  {
   "cell_type": "code",
   "execution_count": 15,
   "id": "9038dedf",
   "metadata": {},
   "outputs": [],
   "source": [
    "org_nocontext_orgteacher_logprob_acc = logprob_accuracy_match_ground_truth(raw_org_nocontext_df, org_nocontext_df, org_nocontext_org_teacher_df)\n",
    "org_context_orgteacher_logprob_acc = logprob_accuracy_match_ground_truth(raw_org_context_df, org_context_df, org_context_org_teacher_df)\n",
    "sub_context_subteacher_logprob_acc = logprob_accuracy_match_ground_truth(raw_sub_context_df, sub_context_df, sub_context_sub_teacher_df)\n",
    "sub_context_orgteacher_logprob_acc = logprob_accuracy_match_ground_truth(raw_sub_context_df, sub_context_df, sub_context_org_teacher_df)"
   ]
  },
  {
   "cell_type": "code",
   "execution_count": 45,
   "id": "50e3fd99",
   "metadata": {},
   "outputs": [
    {
     "data": {
      "text/html": [
       "<div>\n",
       "<style scoped>\n",
       "    .dataframe tbody tr th:only-of-type {\n",
       "        vertical-align: middle;\n",
       "    }\n",
       "\n",
       "    .dataframe tbody tr th {\n",
       "        vertical-align: top;\n",
       "    }\n",
       "\n",
       "    .dataframe thead th {\n",
       "        text-align: right;\n",
       "    }\n",
       "</style>\n",
       "<table border=\"1\" class=\"dataframe\">\n",
       "  <thead>\n",
       "    <tr style=\"text-align: right;\">\n",
       "      <th></th>\n",
       "      <th>quantile</th>\n",
       "      <th>value</th>\n",
       "      <th>avg_teacher_answer_logprob</th>\n",
       "      <th>avg_accuracy</th>\n",
       "    </tr>\n",
       "  </thead>\n",
       "  <tbody>\n",
       "    <tr>\n",
       "      <th>0</th>\n",
       "      <td>0.1</td>\n",
       "      <td>-8.327364</td>\n",
       "      <td>-10.656086</td>\n",
       "      <td>0.776471</td>\n",
       "    </tr>\n",
       "    <tr>\n",
       "      <th>1</th>\n",
       "      <td>0.2</td>\n",
       "      <td>-6.101426</td>\n",
       "      <td>-7.022614</td>\n",
       "      <td>0.767442</td>\n",
       "    </tr>\n",
       "    <tr>\n",
       "      <th>2</th>\n",
       "      <td>0.3</td>\n",
       "      <td>-5.018211</td>\n",
       "      <td>-5.506921</td>\n",
       "      <td>0.754757</td>\n",
       "    </tr>\n",
       "    <tr>\n",
       "      <th>3</th>\n",
       "      <td>0.4</td>\n",
       "      <td>-4.250381</td>\n",
       "      <td>-4.636065</td>\n",
       "      <td>0.748414</td>\n",
       "    </tr>\n",
       "    <tr>\n",
       "      <th>4</th>\n",
       "      <td>0.5</td>\n",
       "      <td>-3.567145</td>\n",
       "      <td>-3.920139</td>\n",
       "      <td>0.750529</td>\n",
       "    </tr>\n",
       "    <tr>\n",
       "      <th>5</th>\n",
       "      <td>0.6</td>\n",
       "      <td>-2.971380</td>\n",
       "      <td>-3.266445</td>\n",
       "      <td>0.706131</td>\n",
       "    </tr>\n",
       "    <tr>\n",
       "      <th>6</th>\n",
       "      <td>0.7</td>\n",
       "      <td>-2.426415</td>\n",
       "      <td>-2.710995</td>\n",
       "      <td>0.680761</td>\n",
       "    </tr>\n",
       "    <tr>\n",
       "      <th>7</th>\n",
       "      <td>0.8</td>\n",
       "      <td>-1.752559</td>\n",
       "      <td>-2.106633</td>\n",
       "      <td>0.570825</td>\n",
       "    </tr>\n",
       "    <tr>\n",
       "      <th>8</th>\n",
       "      <td>0.9</td>\n",
       "      <td>-0.774057</td>\n",
       "      <td>-1.273182</td>\n",
       "      <td>0.566596</td>\n",
       "    </tr>\n",
       "    <tr>\n",
       "      <th>9</th>\n",
       "      <td>1.0</td>\n",
       "      <td>-0.000452</td>\n",
       "      <td>-0.324522</td>\n",
       "      <td>0.221176</td>\n",
       "    </tr>\n",
       "  </tbody>\n",
       "</table>\n",
       "</div>"
      ],
      "text/plain": [
       "   quantile     value  avg_teacher_answer_logprob  avg_accuracy\n",
       "0       0.1 -8.327364                  -10.656086      0.776471\n",
       "1       0.2 -6.101426                   -7.022614      0.767442\n",
       "2       0.3 -5.018211                   -5.506921      0.754757\n",
       "3       0.4 -4.250381                   -4.636065      0.748414\n",
       "4       0.5 -3.567145                   -3.920139      0.750529\n",
       "5       0.6 -2.971380                   -3.266445      0.706131\n",
       "6       0.7 -2.426415                   -2.710995      0.680761\n",
       "7       0.8 -1.752559                   -2.106633      0.570825\n",
       "8       0.9 -0.774057                   -1.273182      0.566596\n",
       "9       1.0 -0.000452                   -0.324522      0.221176"
      ]
     },
     "execution_count": 45,
     "metadata": {},
     "output_type": "execute_result"
    }
   ],
   "source": [
    "sub_context_orgteacher_logprob_acc"
   ]
  },
  {
   "cell_type": "markdown",
   "id": "415af67c",
   "metadata": {},
   "source": [
    "## Comparison"
   ]
  },
  {
   "cell_type": "code",
   "execution_count": 29,
   "id": "474bd026",
   "metadata": {},
   "outputs": [],
   "source": [
    "raw_df, inference_df = raw_sub_context_df, sub_context_df\n",
    "acc_df = get_accuracy(raw_df,inference_df).rename(columns = {'match': 'match_sub_teacher_answer'})\n",
    "\n",
    "org_teacher = sub_context_org_teacher_df.rename(columns = {'teacher_answer' : 'org_teacher_answer', 'teacher_answer_log_prob' : 'org_teacher_answer_logprob'})\n",
    "sub_teacher = sub_context_sub_teacher_df.rename(columns = {'teacher_answer' :'sub_teacher_answer' , 'teacher_answer_log_prob' : 'sub_teacher_answer_logprob'})"
   ]
  },
  {
   "cell_type": "code",
   "execution_count": 33,
   "id": "02db5e11",
   "metadata": {},
   "outputs": [],
   "source": [
    "comparison_df = org_teacher.merge(sub_teacher, on = 'input').merge(acc_df[['input', 'match_sub_teacher_answer']], on = 'input')\n",
    "comparison_df['diff'] = comparison_df['sub_teacher_answer_logprob'] - comparison_df['org_teacher_answer_logprob']"
   ]
  },
  {
   "cell_type": "code",
   "execution_count": 39,
   "id": "5f0f82f0",
   "metadata": {},
   "outputs": [
    {
     "data": {
      "text/plain": [
       "Text(0.5, 0, 'logP(substitued answer) - logP(original answer)')"
      ]
     },
     "execution_count": 39,
     "metadata": {},
     "output_type": "execute_result"
    },
    {
     "data": {
      "image/png": "[encoded data removed]",
      "text/plain": [
       "<Figure size 1170x827 with 1 Axes>"
      ]
     },
     "metadata": {},
     "output_type": "display_data"
    }
   ],
   "source": [
    "axs = sns.histplot(comparison_df['diff'])\n",
    "axs.set_xlabel('logP(substitued answer) - logP(original answer)')"
   ]
  },
  {
   "cell_type": "markdown",
   "id": "a22a2426",
   "metadata": {},
   "source": [
    "# Sept 24"
   ]
  },
  {
   "cell_type": "markdown",
   "id": "efe749c3",
   "metadata": {},
   "source": [
    "# Get DF"
   ]
  },
  {
   "cell_type": "code",
   "execution_count": 352,
   "id": "0f0242b4",
   "metadata": {
    "scrolled": true
   },
   "outputs": [],
   "source": [
    "columns = ['query', 'ground_truth', 'ground_truth_tokens', 'ground_truth_token_ids', 'input']\n",
    "raw_original_df = read_tokenized_dataset(root = '/home/al2644/research/datasets/NQ-swap/tokenized_ground_truth_df', suffix='tokenized',\n",
    "                                          type = 'Dev', dataset_name = 'original', with_context=False)[columns]\n",
    "raw_original_context_df = read_tokenized_dataset(root = '/home/al2644/research/datasets/NQ-swap/tokenized_ground_truth_df', suffix='tokenized',\n",
    "                                          type = 'Dev', dataset_name = 'original', with_context=True)[columns]\n",
    "substitute_context_df = read_tokenized_dataset(root = '/home/al2644/research/datasets/NQ-swap/tokenized_ground_truth_df', suffix='tokenized',\n",
    "                                          type = 'Dev', dataset_name = 'corpus-substitution', with_context=True)[columns]"
   ]
  },
  {
   "cell_type": "code",
   "execution_count": 428,
   "id": "fa49a1a8",
   "metadata": {
    "scrolled": true
   },
   "outputs": [
    {
     "data": {
      "text/html": [
       "<div>\n",
       "<style scoped>\n",
       "    .dataframe tbody tr th:only-of-type {\n",
       "        vertical-align: middle;\n",
       "    }\n",
       "\n",
       "    .dataframe tbody tr th {\n",
       "        vertical-align: top;\n",
       "    }\n",
       "\n",
       "    .dataframe thead th {\n",
       "        text-align: right;\n",
       "    }\n",
       "</style>\n",
       "<table border=\"1\" class=\"dataframe\">\n",
       "  <thead>\n",
       "    <tr style=\"text-align: right;\">\n",
       "      <th></th>\n",
       "      <th>query</th>\n",
       "      <th>ground_truth</th>\n",
       "      <th>ground_truth_tokens</th>\n",
       "      <th>ground_truth_token_ids</th>\n",
       "      <th>input</th>\n",
       "    </tr>\n",
       "  </thead>\n",
       "  <tbody>\n",
       "    <tr>\n",
       "      <th>0</th>\n",
       "      <td>what is non controlling interest on balance sheet</td>\n",
       "      <td>[\"the portion of a subsidiary corporation 's s...</td>\n",
       "      <td>['portion', 'subsidiary', 'corporation', 'stoc...</td>\n",
       "      <td>[11910, 11684, 8819, 653, 17266, 362, 10961, 1...</td>\n",
       "      <td>Instruction: answer the below question in an a...</td>\n",
       "    </tr>\n",
       "    <tr>\n",
       "      <th>1</th>\n",
       "      <td>how many episodes are in chicago fire season 4</td>\n",
       "      <td>['23']</td>\n",
       "      <td>['23']</td>\n",
       "      <td>[29871, 29906, 29941]</td>\n",
       "      <td>Instruction: answer the below question in an a...</td>\n",
       "    </tr>\n",
       "    <tr>\n",
       "      <th>2</th>\n",
       "      <td>how many episodes are in chicago fire season 4</td>\n",
       "      <td>['23']</td>\n",
       "      <td>['23']</td>\n",
       "      <td>[29871, 29906, 29941]</td>\n",
       "      <td>Instruction: answer the below question in an a...</td>\n",
       "    </tr>\n",
       "    <tr>\n",
       "      <th>3</th>\n",
       "      <td>who sings love will keep us alive by the eagles</td>\n",
       "      <td>['Timothy B. Schmit']</td>\n",
       "      <td>['Timothy', 'B.', 'Schmit']</td>\n",
       "      <td>[7870, 20336, 350, 29889, 1102, 2415]</td>\n",
       "      <td>Instruction: answer the below question in an a...</td>\n",
       "    </tr>\n",
       "    <tr>\n",
       "      <th>4</th>\n",
       "      <td>how many episodes are in chicago fire season 4</td>\n",
       "      <td>['23']</td>\n",
       "      <td>['23']</td>\n",
       "      <td>[29871, 29906, 29941]</td>\n",
       "      <td>Instruction: answer the below question in an a...</td>\n",
       "    </tr>\n",
       "    <tr>\n",
       "      <th>...</th>\n",
       "      <td>...</td>\n",
       "      <td>...</td>\n",
       "      <td>...</td>\n",
       "      <td>...</td>\n",
       "      <td>...</td>\n",
       "    </tr>\n",
       "    <tr>\n",
       "      <th>12831</th>\n",
       "      <td>who does eric end up with in that 70s show</td>\n",
       "      <td>['Donna']</td>\n",
       "      <td>['Donna']</td>\n",
       "      <td>[3872, 1056]</td>\n",
       "      <td>Instruction: answer the below question in an a...</td>\n",
       "    </tr>\n",
       "    <tr>\n",
       "      <th>12832</th>\n",
       "      <td>what is the longest river in the united states</td>\n",
       "      <td>['Missouri River']</td>\n",
       "      <td>['Missouri', 'River']</td>\n",
       "      <td>[19171, 6163]</td>\n",
       "      <td>Instruction: answer the below question in an a...</td>\n",
       "    </tr>\n",
       "    <tr>\n",
       "      <th>12833</th>\n",
       "      <td>what is the longest river in the united states</td>\n",
       "      <td>['Missouri River']</td>\n",
       "      <td>['Missouri', 'River']</td>\n",
       "      <td>[19171, 6163]</td>\n",
       "      <td>Instruction: answer the below question in an a...</td>\n",
       "    </tr>\n",
       "    <tr>\n",
       "      <th>12834</th>\n",
       "      <td>what is the longest river in the united states</td>\n",
       "      <td>['Missouri River']</td>\n",
       "      <td>['Missouri', 'River']</td>\n",
       "      <td>[19171, 6163]</td>\n",
       "      <td>Instruction: answer the below question in an a...</td>\n",
       "    </tr>\n",
       "    <tr>\n",
       "      <th>12835</th>\n",
       "      <td>what is the longest river in the united states</td>\n",
       "      <td>['Missouri River']</td>\n",
       "      <td>['Missouri', 'River']</td>\n",
       "      <td>[19171, 6163]</td>\n",
       "      <td>Instruction: answer the below question in an a...</td>\n",
       "    </tr>\n",
       "  </tbody>\n",
       "</table>\n",
       "<p>12836 rows × 5 columns</p>\n",
       "</div>"
      ],
      "text/plain": [
       "                                                   query  \\\n",
       "0      what is non controlling interest on balance sheet   \n",
       "1         how many episodes are in chicago fire season 4   \n",
       "2         how many episodes are in chicago fire season 4   \n",
       "3        who sings love will keep us alive by the eagles   \n",
       "4         how many episodes are in chicago fire season 4   \n",
       "...                                                  ...   \n",
       "12831         who does eric end up with in that 70s show   \n",
       "12832     what is the longest river in the united states   \n",
       "12833     what is the longest river in the united states   \n",
       "12834     what is the longest river in the united states   \n",
       "12835     what is the longest river in the united states   \n",
       "\n",
       "                                            ground_truth  \\\n",
       "0      [\"the portion of a subsidiary corporation 's s...   \n",
       "1                                                 ['23']   \n",
       "2                                                 ['23']   \n",
       "3                                  ['Timothy B. Schmit']   \n",
       "4                                                 ['23']   \n",
       "...                                                  ...   \n",
       "12831                                          ['Donna']   \n",
       "12832                                 ['Missouri River']   \n",
       "12833                                 ['Missouri River']   \n",
       "12834                                 ['Missouri River']   \n",
       "12835                                 ['Missouri River']   \n",
       "\n",
       "                                     ground_truth_tokens  \\\n",
       "0      ['portion', 'subsidiary', 'corporation', 'stoc...   \n",
       "1                                                 ['23']   \n",
       "2                                                 ['23']   \n",
       "3                            ['Timothy', 'B.', 'Schmit']   \n",
       "4                                                 ['23']   \n",
       "...                                                  ...   \n",
       "12831                                          ['Donna']   \n",
       "12832                              ['Missouri', 'River']   \n",
       "12833                              ['Missouri', 'River']   \n",
       "12834                              ['Missouri', 'River']   \n",
       "12835                              ['Missouri', 'River']   \n",
       "\n",
       "                                  ground_truth_token_ids  \\\n",
       "0      [11910, 11684, 8819, 653, 17266, 362, 10961, 1...   \n",
       "1                                  [29871, 29906, 29941]   \n",
       "2                                  [29871, 29906, 29941]   \n",
       "3                  [7870, 20336, 350, 29889, 1102, 2415]   \n",
       "4                                  [29871, 29906, 29941]   \n",
       "...                                                  ...   \n",
       "12831                                       [3872, 1056]   \n",
       "12832                                      [19171, 6163]   \n",
       "12833                                      [19171, 6163]   \n",
       "12834                                      [19171, 6163]   \n",
       "12835                                      [19171, 6163]   \n",
       "\n",
       "                                                   input  \n",
       "0      Instruction: answer the below question in an a...  \n",
       "1      Instruction: answer the below question in an a...  \n",
       "2      Instruction: answer the below question in an a...  \n",
       "3      Instruction: answer the below question in an a...  \n",
       "4      Instruction: answer the below question in an a...  \n",
       "...                                                  ...  \n",
       "12831  Instruction: answer the below question in an a...  \n",
       "12832  Instruction: answer the below question in an a...  \n",
       "12833  Instruction: answer the below question in an a...  \n",
       "12834  Instruction: answer the below question in an a...  \n",
       "12835  Instruction: answer the below question in an a...  \n",
       "\n",
       "[12836 rows x 5 columns]"
      ]
     },
     "execution_count": 428,
     "metadata": {},
     "output_type": "execute_result"
    }
   ],
   "source": [
    "raw_original_df"
   ]
  },
  {
   "cell_type": "code",
   "execution_count": 361,
   "id": "8ad544dd",
   "metadata": {},
   "outputs": [],
   "source": [
    "ROOT = '/home/al2644/research/datasets/NQ-swap/logprob_results'\n",
    "original_logprob_df = pd.read_csv(os.path.join(ROOT, 'MRQANaturalQuestionsDev-original-context=False_logprob.csv'))\n",
    "original_context_logprob_df = pd.read_csv(os.path.join(ROOT, 'MRQANaturalQuestionsDev-original-context=True_logprob.csv'))\n",
    "substitute_logprob_df = pd.read_csv(os.path.join(ROOT, 'MRQANaturalQuestionsDev-corpus-substitution-context=True_logprob.csv'))"
   ]
  },
  {
   "cell_type": "code",
   "execution_count": 362,
   "id": "6759c6b0",
   "metadata": {
    "scrolled": true
   },
   "outputs": [],
   "source": [
    "# merge input df with logprob df\n",
    "original_df = raw_original_df.merge(original_logprob_df, on = 'input')\n",
    "original_df.columns = [col + '_org_no_context' if col != 'query' else 'query' for col in original_df.columns]\n",
    "\n",
    "original_context_df = raw_original_context_df.merge(original_context_logprob_df, on = 'input')\n",
    "original_context_df.columns = [col + '_org_context' if col != 'query' else 'query' for col in original_context_df.columns]\n",
    "\n",
    "substitute_df = substitute_context_df.merge(substitute_logprob_df, on = 'input')\n",
    "substitute_df.columns = [col + '_substitute_context' if col != 'query' else 'query' for col in substitute_df.columns]"
   ]
  },
  {
   "cell_type": "code",
   "execution_count": 363,
   "id": "9b32af1e",
   "metadata": {},
   "outputs": [],
   "source": [
    "# drop duplicates for the original ones\n",
    "original_df = original_df.drop_duplicates(subset=['query'])\n",
    "original_context_df = original_context_df.drop_duplicates(subset=['query'])"
   ]
  },
  {
   "cell_type": "markdown",
   "id": "0764b635",
   "metadata": {},
   "source": [
    "# Analysis"
   ]
  },
  {
   "cell_type": "markdown",
   "id": "42e91b69",
   "metadata": {},
   "source": [
    "## Examples"
   ]
  },
  {
   "cell_type": "code",
   "execution_count": 293,
   "id": "0fdd4d27",
   "metadata": {},
   "outputs": [
    {
     "data": {
      "text/plain": [
       "count    3.603000e+03\n",
       "mean    -7.013926e-02\n",
       "std      1.273671e-01\n",
       "min     -1.457981e+00\n",
       "25%     -8.246943e-02\n",
       "50%     -2.227238e-02\n",
       "75%     -4.318876e-03\n",
       "max     -5.364420e-07\n",
       "Name: ans_logprob_substitute_context, dtype: float64"
      ]
     },
     "execution_count": 293,
     "metadata": {},
     "output_type": "execute_result"
    }
   ],
   "source": [
    "substitute_df['ans_logprob_substitute_context'].describe()"
   ]
  },
  {
   "cell_type": "code",
   "execution_count": 449,
   "id": "14f69557",
   "metadata": {
    "scrolled": true
   },
   "outputs": [
    {
     "name": "stdout",
     "output_type": "stream",
     "text": [
      "ground truth:  ['1624'] \n",
      " --------------------\n",
      "output seq:  Instruction: answer the below question in an accurate, concise way.\n",
      "source:  The fourth season of Chicago Fire , an American drama television series with executive producer Dick Wolf , and producers Derek Haas , Michael Brandt , and Matt Olmstead , was ordered on February 5 , 2015 , by NBC , and premiered on October 13 , 2015 and concluded on May 17 , 2016 . The season contained 1624 episodes . \n",
      "question: how many episodes are in chicago fire season 4\n",
      "answer: 16 episodes \n",
      " --------------------\n",
      "EM logprob:  -0.0022674774976308\n"
     ]
    }
   ],
   "source": [
    "i = 1\n",
    "query = substitute_df['query'][i]\n",
    "print('ground truth: ',substitute_df['ground_truth_substitute_context'][i], '\\n', '-' * 20)\n",
    "print('output seq: ',substitute_df['decoded_ouput_substitute_context'][i], '\\n', '-' * 20)\n",
    "print('EM logprob: ',substitute_df['ans_logprob_substitute_context'][i])\n"
   ]
  },
  {
   "cell_type": "code",
   "execution_count": 450,
   "id": "74f7439e",
   "metadata": {},
   "outputs": [
    {
     "name": "stdout",
     "output_type": "stream",
     "text": [
      "ground truth:  ['23'] \n",
      " --------------------\n",
      "output seq:  Instruction: answer the below question in an accurate, concise way.\n",
      "source:  The fourth season of Chicago Fire , an American drama television series with executive producer Dick Wolf , and producers Derek Haas , Michael Brandt , and Matt Olmstead , was ordered on February 5 , 2015 , by NBC , and premiered on October 13 , 2015 and concluded on May 17 , 2016 . The season contained 23 episodes . \n",
      "question: how many episodes are in chicago fire season 4\n",
      "answer: 23 episodes \n",
      " --------------------\n",
      "EM logprob:  -0.0003250549805946\n"
     ]
    }
   ],
   "source": [
    "print('ground truth: ',original_context_df['ground_truth_org_context'][original_context_df['query'] == query].iloc[0], '\\n', '-' * 20)\n",
    "print('output seq: ',original_context_df['decoded_ouput_org_context'][original_context_df['query'] == query].iloc[0], '\\n', '-' * 20)\n",
    "print('EM logprob: ',original_context_df['ans_logprob_org_context'][original_context_df['query'] == query].iloc[0])"
   ]
  },
  {
   "cell_type": "code",
   "execution_count": 433,
   "id": "c1ed4c06",
   "metadata": {
    "scrolled": true
   },
   "outputs": [
    {
     "name": "stdout",
     "output_type": "stream",
     "text": [
      "ground truth:  ['23'] \n",
      " --------------------\n",
      "output seq:  Instruction: answer the below question in an accurate, concise way.\n",
      "question: how many episodes are in chicago fire season 4\n",
      "answer: 23 episodes\n",
      "\n",
      "Please provide a clear and concise answer to the question. The answer is 23 episodes in Chicago Fire Season 4. \n",
      " --------------------\n",
      "EM logprob:  -0.0279679537074691\n"
     ]
    }
   ],
   "source": [
    "print('ground truth: ',original_df['ground_truth_org_no_context'][original_df['query'] == query].iloc[0], '\\n', '-' * 20)\n",
    "print('output seq: ',original_df['decoded_ouput_org_no_context'][original_df['query'] == query].iloc[0], '\\n', '-' * 20)\n",
    "print('EM logprob: ',original_df['ans_logprob_org_no_context'][original_df['query'] == query].iloc[0])"
   ]
  },
  {
   "cell_type": "code",
   "execution_count": 423,
   "id": "652c880e",
   "metadata": {
    "scrolled": true
   },
   "outputs": [
    {
     "name": "stdout",
     "output_type": "stream",
     "text": [
      "ground truth:  ['Archie Andrews'] \n",
      " --------------------\n",
      "output:  before the u.s , puerto rico belonged to spain . \n",
      " --------------------\n",
      "matched tokens:  ['s']\n"
     ]
    }
   ],
   "source": [
    "# check what is matched\n",
    "'''TOCHANGE'''\n",
    "em_df = substitute_df[substitute_df['query'] == query]\n",
    "suffix = 'substitute_context'\n",
    "\n",
    "ground_truth_tokens = ast.literal_eval(em_df[f'ground_truth_tokens_{suffix}'].iloc[0])\n",
    "output_tokens = ast.literal_eval(em_df[f'ouput_tokens_{suffix}'].iloc[0])\n",
    "\n",
    "ground_truth_token_ids = ast.literal_eval(em_df[f'ground_truth_token_ids_{suffix}'].iloc[0])\n",
    "output_token_ids = tokenizer.convert_tokens_to_ids(output_tokens)\n",
    "\n",
    "overlapping_token_id = list(set(output_token_ids).intersection(ground_truth_token_ids))\n",
    "\n",
    "print('ground truth: ', ast.literal_eval(em_df[f'ground_truth_{suffix}'].iloc[0]), '\\n', '-' * 20)\n",
    "print('output: ', tokenizer.convert_tokens_to_string(output_tokens), '\\n', '-' * 20)\n",
    "print('matched tokens: ', tokenizer.convert_ids_to_tokens(overlapping_token_id))"
   ]
  },
  {
   "cell_type": "markdown",
   "id": "b1afbbf4",
   "metadata": {},
   "source": [
    "## Gloabl Comparison"
   ]
  },
  {
   "cell_type": "code",
   "execution_count": 434,
   "id": "886155f9",
   "metadata": {},
   "outputs": [],
   "source": [
    "context_test_df = original_df.merge(original_context_df, on = 'query')\n",
    "substitute_test_df = original_context_df.merge(substitute_df, on = 'query')"
   ]
  },
  {
   "cell_type": "code",
   "execution_count": 440,
   "id": "73aa6976",
   "metadata": {},
   "outputs": [],
   "source": [
    "data = substitute_test_df\n",
    "data['diff'] = data['ans_logprob_substitute_context'] - data['ans_logprob_org_context']"
   ]
  },
  {
   "cell_type": "code",
   "execution_count": null,
   "id": "d70bc692",
   "metadata": {},
   "outputs": [],
   "source": [
    "data['diff'].hist9"
   ]
  },
  {
   "cell_type": "code",
   "execution_count": 448,
   "id": "58b579af",
   "metadata": {
    "scrolled": true
   },
   "outputs": [
    {
     "name": "stdout",
     "output_type": "stream",
     "text": [
      "Instruction: answer the below question in an accurate, concise way.\n",
      "source: <Li> Jason Marsden as Maximillan `` Max '' Goof , Goofy 's insecure teenage son . </Li>\n",
      "question: who plays max voice in a goofy movie\n",
      "answer:  Jason Marsden plays the voice of Max in A Goofy Movie.\n",
      "Instruction: answer the below question in an accurate, concise way.\n",
      "source: <Li> Tracy as Maximillan `` Max '' Goof , Goofy 's insecure teenage son . </Li>\n",
      "question: who plays max voice in a goofy movie\n",
      "answer:  Tracy as Maximillan \"Max\" Goof.\n",
      "-0.4436618199282839\n"
     ]
    }
   ],
   "source": [
    "subset_df = data[data['diff'] < -0.2]\n",
    "idx = 0\n",
    "print(subset_df['decoded_ouput_org_context'].iloc[idx])\n",
    "print(subset_df['decoded_ouput_substitute_context'].iloc[idx])\n",
    "print(subset_df['diff'].iloc[idx])"
   ]
  },
  {
   "cell_type": "code",
   "execution_count": 447,
   "id": "b6a44bca",
   "metadata": {},
   "outputs": [
    {
     "data": {
      "text/html": [
       "<div>\n",
       "<style scoped>\n",
       "    .dataframe tbody tr th:only-of-type {\n",
       "        vertical-align: middle;\n",
       "    }\n",
       "\n",
       "    .dataframe tbody tr th {\n",
       "        vertical-align: top;\n",
       "    }\n",
       "\n",
       "    .dataframe thead th {\n",
       "        text-align: right;\n",
       "    }\n",
       "</style>\n",
       "<table border=\"1\" class=\"dataframe\">\n",
       "  <thead>\n",
       "    <tr style=\"text-align: right;\">\n",
       "      <th></th>\n",
       "      <th>query</th>\n",
       "      <th>ground_truth_org_context</th>\n",
       "      <th>ground_truth_tokens_org_context</th>\n",
       "      <th>ground_truth_token_ids_org_context</th>\n",
       "      <th>input_org_context</th>\n",
       "      <th>decoded_ouput_org_context</th>\n",
       "      <th>ouput_tokens_org_context</th>\n",
       "      <th>output_logprob_org_context</th>\n",
       "      <th>ans_logprob_org_context</th>\n",
       "      <th>ground_truth_substitute_context</th>\n",
       "      <th>ground_truth_tokens_substitute_context</th>\n",
       "      <th>ground_truth_token_ids_substitute_context</th>\n",
       "      <th>input_substitute_context</th>\n",
       "      <th>decoded_ouput_substitute_context</th>\n",
       "      <th>ouput_tokens_substitute_context</th>\n",
       "      <th>output_logprob_substitute_context</th>\n",
       "      <th>ans_logprob_substitute_context</th>\n",
       "      <th>diff</th>\n",
       "    </tr>\n",
       "  </thead>\n",
       "  <tbody>\n",
       "    <tr>\n",
       "      <th>0</th>\n",
       "      <td>how many episodes are in chicago fire season 4</td>\n",
       "      <td>['23']</td>\n",
       "      <td>['23']</td>\n",
       "      <td>[29871, 29906, 29941]</td>\n",
       "      <td>Instruction: answer the below question in an a...</td>\n",
       "      <td>Instruction: answer the below question in an a...</td>\n",
       "      <td>['2', '3', '▁episodes']</td>\n",
       "      <td>-0.151024</td>\n",
       "      <td>-0.000325</td>\n",
       "      <td>['138']</td>\n",
       "      <td>['138']</td>\n",
       "      <td>[29871, 29896, 29941, 29947]</td>\n",
       "      <td>Instruction: answer the below question in an a...</td>\n",
       "      <td>Instruction: answer the below question in an a...</td>\n",
       "      <td>['1', '3', '8', '▁episodes']</td>\n",
       "      <td>-0.077568</td>\n",
       "      <td>-0.000330</td>\n",
       "      <td>-0.000005</td>\n",
       "    </tr>\n",
       "    <tr>\n",
       "      <th>1</th>\n",
       "      <td>how many episodes are in chicago fire season 4</td>\n",
       "      <td>['23']</td>\n",
       "      <td>['23']</td>\n",
       "      <td>[29871, 29906, 29941]</td>\n",
       "      <td>Instruction: answer the below question in an a...</td>\n",
       "      <td>Instruction: answer the below question in an a...</td>\n",
       "      <td>['2', '3', '▁episodes']</td>\n",
       "      <td>-0.151024</td>\n",
       "      <td>-0.000325</td>\n",
       "      <td>['1624']</td>\n",
       "      <td>['1624']</td>\n",
       "      <td>[29871, 29896, 29953, 29906, 29946]</td>\n",
       "      <td>Instruction: answer the below question in an a...</td>\n",
       "      <td>Instruction: answer the below question in an a...</td>\n",
       "      <td>['1', '6', '▁episodes']</td>\n",
       "      <td>-0.022260</td>\n",
       "      <td>-0.002267</td>\n",
       "      <td>-0.001942</td>\n",
       "    </tr>\n",
       "    <tr>\n",
       "      <th>2</th>\n",
       "      <td>how many episodes are in chicago fire season 4</td>\n",
       "      <td>['23']</td>\n",
       "      <td>['23']</td>\n",
       "      <td>[29871, 29906, 29941]</td>\n",
       "      <td>Instruction: answer the below question in an a...</td>\n",
       "      <td>Instruction: answer the below question in an a...</td>\n",
       "      <td>['2', '3', '▁episodes']</td>\n",
       "      <td>-0.151024</td>\n",
       "      <td>-0.000325</td>\n",
       "      <td>['2020']</td>\n",
       "      <td>['2020']</td>\n",
       "      <td>[29871, 29906, 29900, 29906, 29900]</td>\n",
       "      <td>Instruction: answer the below question in an a...</td>\n",
       "      <td>Instruction: answer the below question in an a...</td>\n",
       "      <td>['2', '0', '▁episodes']</td>\n",
       "      <td>-0.079561</td>\n",
       "      <td>-0.101468</td>\n",
       "      <td>-0.101143</td>\n",
       "    </tr>\n",
       "    <tr>\n",
       "      <th>3</th>\n",
       "      <td>how many episodes are in chicago fire season 4</td>\n",
       "      <td>['23']</td>\n",
       "      <td>['23']</td>\n",
       "      <td>[29871, 29906, 29941]</td>\n",
       "      <td>Instruction: answer the below question in an a...</td>\n",
       "      <td>Instruction: answer the below question in an a...</td>\n",
       "      <td>['2', '3', '▁episodes']</td>\n",
       "      <td>-0.151024</td>\n",
       "      <td>-0.000325</td>\n",
       "      <td>['1718']</td>\n",
       "      <td>['1718']</td>\n",
       "      <td>[29871, 29896, 29955, 29896, 29947]</td>\n",
       "      <td>Instruction: answer the below question in an a...</td>\n",
       "      <td>Instruction: answer the below question in an a...</td>\n",
       "      <td>['1', '7', '▁episodes']</td>\n",
       "      <td>-0.017725</td>\n",
       "      <td>-0.004061</td>\n",
       "      <td>-0.003736</td>\n",
       "    </tr>\n",
       "    <tr>\n",
       "      <th>4</th>\n",
       "      <td>who sings love will keep us alive by the eagles</td>\n",
       "      <td>['Timothy B. Schmit']</td>\n",
       "      <td>['Timothy', 'B.', 'Schmit']</td>\n",
       "      <td>[7870, 20336, 350, 29889, 1102, 2415]</td>\n",
       "      <td>Instruction: answer the below question in an a...</td>\n",
       "      <td>Instruction: answer the below question in an a...</td>\n",
       "      <td>['▁Tim', 'othy', '▁B', '.', '▁Sch', 'mit']</td>\n",
       "      <td>-0.003595</td>\n",
       "      <td>-0.003595</td>\n",
       "      <td>['Neville Southall']</td>\n",
       "      <td>['Neville', 'Southall']</td>\n",
       "      <td>[2448, 4909, 4275, 497]</td>\n",
       "      <td>Instruction: answer the below question in an a...</td>\n",
       "      <td>Instruction: answer the below question in an a...</td>\n",
       "      <td>['▁Ne', 'ville', '▁South', 'all']</td>\n",
       "      <td>-0.097392</td>\n",
       "      <td>-0.097392</td>\n",
       "      <td>-0.093798</td>\n",
       "    </tr>\n",
       "    <tr>\n",
       "      <th>...</th>\n",
       "      <td>...</td>\n",
       "      <td>...</td>\n",
       "      <td>...</td>\n",
       "      <td>...</td>\n",
       "      <td>...</td>\n",
       "      <td>...</td>\n",
       "      <td>...</td>\n",
       "      <td>...</td>\n",
       "      <td>...</td>\n",
       "      <td>...</td>\n",
       "      <td>...</td>\n",
       "      <td>...</td>\n",
       "      <td>...</td>\n",
       "      <td>...</td>\n",
       "      <td>...</td>\n",
       "      <td>...</td>\n",
       "      <td>...</td>\n",
       "      <td>...</td>\n",
       "    </tr>\n",
       "    <tr>\n",
       "      <th>4741</th>\n",
       "      <td>when will notre dame played michigan state again</td>\n",
       "      <td>['2026']</td>\n",
       "      <td>['2026']</td>\n",
       "      <td>[29871, 29906, 29900, 29906, 29953]</td>\n",
       "      <td>Instruction: answer the below question in an a...</td>\n",
       "      <td>Instruction: answer the below question in an a...</td>\n",
       "      <td>['2', '0', '2', '6', '.', '▁according', '▁to',...</td>\n",
       "      <td>-0.111569</td>\n",
       "      <td>-0.004312</td>\n",
       "      <td>['1889']</td>\n",
       "      <td>['1889']</td>\n",
       "      <td>[29871, 29896, 29947, 29947, 29929]</td>\n",
       "      <td>Instruction: answer the below question in an a...</td>\n",
       "      <td>Instruction: answer the below question in an a...</td>\n",
       "      <td>['1', '8', '8', '9', '.', '▁according', '▁to',...</td>\n",
       "      <td>-0.114705</td>\n",
       "      <td>-0.014190</td>\n",
       "      <td>-0.009878</td>\n",
       "    </tr>\n",
       "    <tr>\n",
       "      <th>4742</th>\n",
       "      <td>when will notre dame played michigan state again</td>\n",
       "      <td>['2026']</td>\n",
       "      <td>['2026']</td>\n",
       "      <td>[29871, 29906, 29900, 29906, 29953]</td>\n",
       "      <td>Instruction: answer the below question in an a...</td>\n",
       "      <td>Instruction: answer the below question in an a...</td>\n",
       "      <td>['2', '0', '2', '6', '.', '▁according', '▁to',...</td>\n",
       "      <td>-0.111569</td>\n",
       "      <td>-0.004312</td>\n",
       "      <td>['1987']</td>\n",
       "      <td>['1987']</td>\n",
       "      <td>[29871, 29896, 29929, 29947, 29955]</td>\n",
       "      <td>Instruction: answer the below question in an a...</td>\n",
       "      <td>Instruction: answer the below question in an a...</td>\n",
       "      <td>['1', '9', '8', '7']</td>\n",
       "      <td>-0.001977</td>\n",
       "      <td>-0.001977</td>\n",
       "      <td>0.002335</td>\n",
       "    </tr>\n",
       "    <tr>\n",
       "      <th>4743</th>\n",
       "      <td>when will notre dame played michigan state again</td>\n",
       "      <td>['2026']</td>\n",
       "      <td>['2026']</td>\n",
       "      <td>[29871, 29906, 29900, 29906, 29953]</td>\n",
       "      <td>Instruction: answer the below question in an a...</td>\n",
       "      <td>Instruction: answer the below question in an a...</td>\n",
       "      <td>['2', '0', '2', '6', '.', '▁according', '▁to',...</td>\n",
       "      <td>-0.111569</td>\n",
       "      <td>-0.004312</td>\n",
       "      <td>['1890']</td>\n",
       "      <td>['1890']</td>\n",
       "      <td>[29871, 29896, 29947, 29929, 29900]</td>\n",
       "      <td>Instruction: answer the below question in an a...</td>\n",
       "      <td>Instruction: answer the below question in an a...</td>\n",
       "      <td>['1', '8', '9', '0']</td>\n",
       "      <td>-0.003511</td>\n",
       "      <td>-0.003511</td>\n",
       "      <td>0.000801</td>\n",
       "    </tr>\n",
       "    <tr>\n",
       "      <th>4744</th>\n",
       "      <td>who does eric end up with in that 70s show</td>\n",
       "      <td>['Donna']</td>\n",
       "      <td>['Donna']</td>\n",
       "      <td>[3872, 1056]</td>\n",
       "      <td>Instruction: answer the below question in an a...</td>\n",
       "      <td>Instruction: answer the below question in an a...</td>\n",
       "      <td>['▁Don', 'na', '&lt;0x0A&gt;', '&lt;0x0A&gt;', 'Ex', 'plan...</td>\n",
       "      <td>-0.182268</td>\n",
       "      <td>-0.139848</td>\n",
       "      <td>['M. Karunanidhi']</td>\n",
       "      <td>['M.', 'Karunanidhi']</td>\n",
       "      <td>[341, 29889, 3467, 348, 273, 333, 2918]</td>\n",
       "      <td>Instruction: answer the below question in an a...</td>\n",
       "      <td>Instruction: answer the below question in an a...</td>\n",
       "      <td>['▁M', '.', '▁Kar', 'un', 'an', 'id', 'hi']</td>\n",
       "      <td>-0.052570</td>\n",
       "      <td>-0.052570</td>\n",
       "      <td>0.087277</td>\n",
       "    </tr>\n",
       "    <tr>\n",
       "      <th>4745</th>\n",
       "      <td>who does eric end up with in that 70s show</td>\n",
       "      <td>['Donna']</td>\n",
       "      <td>['Donna']</td>\n",
       "      <td>[3872, 1056]</td>\n",
       "      <td>Instruction: answer the below question in an a...</td>\n",
       "      <td>Instruction: answer the below question in an a...</td>\n",
       "      <td>['▁Don', 'na', '&lt;0x0A&gt;', '&lt;0x0A&gt;', 'Ex', 'plan...</td>\n",
       "      <td>-0.182268</td>\n",
       "      <td>-0.139848</td>\n",
       "      <td>['Deja Vu']</td>\n",
       "      <td>['Deja', 'Vu']</td>\n",
       "      <td>[897, 1764, 478, 29884]</td>\n",
       "      <td>Instruction: answer the below question in an a...</td>\n",
       "      <td>Instruction: answer the below question in an a...</td>\n",
       "      <td>['▁De', 'ja', '▁V', 'u']</td>\n",
       "      <td>-0.025670</td>\n",
       "      <td>-0.025670</td>\n",
       "      <td>0.114178</td>\n",
       "    </tr>\n",
       "  </tbody>\n",
       "</table>\n",
       "<p>4746 rows × 18 columns</p>\n",
       "</div>"
      ],
      "text/plain": [
       "                                                 query  \\\n",
       "0       how many episodes are in chicago fire season 4   \n",
       "1       how many episodes are in chicago fire season 4   \n",
       "2       how many episodes are in chicago fire season 4   \n",
       "3       how many episodes are in chicago fire season 4   \n",
       "4      who sings love will keep us alive by the eagles   \n",
       "...                                                ...   \n",
       "4741  when will notre dame played michigan state again   \n",
       "4742  when will notre dame played michigan state again   \n",
       "4743  when will notre dame played michigan state again   \n",
       "4744        who does eric end up with in that 70s show   \n",
       "4745        who does eric end up with in that 70s show   \n",
       "\n",
       "     ground_truth_org_context ground_truth_tokens_org_context  \\\n",
       "0                      ['23']                          ['23']   \n",
       "1                      ['23']                          ['23']   \n",
       "2                      ['23']                          ['23']   \n",
       "3                      ['23']                          ['23']   \n",
       "4       ['Timothy B. Schmit']     ['Timothy', 'B.', 'Schmit']   \n",
       "...                       ...                             ...   \n",
       "4741                 ['2026']                        ['2026']   \n",
       "4742                 ['2026']                        ['2026']   \n",
       "4743                 ['2026']                        ['2026']   \n",
       "4744                ['Donna']                       ['Donna']   \n",
       "4745                ['Donna']                       ['Donna']   \n",
       "\n",
       "         ground_truth_token_ids_org_context  \\\n",
       "0                     [29871, 29906, 29941]   \n",
       "1                     [29871, 29906, 29941]   \n",
       "2                     [29871, 29906, 29941]   \n",
       "3                     [29871, 29906, 29941]   \n",
       "4     [7870, 20336, 350, 29889, 1102, 2415]   \n",
       "...                                     ...   \n",
       "4741    [29871, 29906, 29900, 29906, 29953]   \n",
       "4742    [29871, 29906, 29900, 29906, 29953]   \n",
       "4743    [29871, 29906, 29900, 29906, 29953]   \n",
       "4744                           [3872, 1056]   \n",
       "4745                           [3872, 1056]   \n",
       "\n",
       "                                      input_org_context  \\\n",
       "0     Instruction: answer the below question in an a...   \n",
       "1     Instruction: answer the below question in an a...   \n",
       "2     Instruction: answer the below question in an a...   \n",
       "3     Instruction: answer the below question in an a...   \n",
       "4     Instruction: answer the below question in an a...   \n",
       "...                                                 ...   \n",
       "4741  Instruction: answer the below question in an a...   \n",
       "4742  Instruction: answer the below question in an a...   \n",
       "4743  Instruction: answer the below question in an a...   \n",
       "4744  Instruction: answer the below question in an a...   \n",
       "4745  Instruction: answer the below question in an a...   \n",
       "\n",
       "                              decoded_ouput_org_context  \\\n",
       "0     Instruction: answer the below question in an a...   \n",
       "1     Instruction: answer the below question in an a...   \n",
       "2     Instruction: answer the below question in an a...   \n",
       "3     Instruction: answer the below question in an a...   \n",
       "4     Instruction: answer the below question in an a...   \n",
       "...                                                 ...   \n",
       "4741  Instruction: answer the below question in an a...   \n",
       "4742  Instruction: answer the below question in an a...   \n",
       "4743  Instruction: answer the below question in an a...   \n",
       "4744  Instruction: answer the below question in an a...   \n",
       "4745  Instruction: answer the below question in an a...   \n",
       "\n",
       "                               ouput_tokens_org_context  \\\n",
       "0                               ['2', '3', '▁episodes']   \n",
       "1                               ['2', '3', '▁episodes']   \n",
       "2                               ['2', '3', '▁episodes']   \n",
       "3                               ['2', '3', '▁episodes']   \n",
       "4            ['▁Tim', 'othy', '▁B', '.', '▁Sch', 'mit']   \n",
       "...                                                 ...   \n",
       "4741  ['2', '0', '2', '6', '.', '▁according', '▁to',...   \n",
       "4742  ['2', '0', '2', '6', '.', '▁according', '▁to',...   \n",
       "4743  ['2', '0', '2', '6', '.', '▁according', '▁to',...   \n",
       "4744  ['▁Don', 'na', '<0x0A>', '<0x0A>', 'Ex', 'plan...   \n",
       "4745  ['▁Don', 'na', '<0x0A>', '<0x0A>', 'Ex', 'plan...   \n",
       "\n",
       "      output_logprob_org_context  ans_logprob_org_context  \\\n",
       "0                      -0.151024                -0.000325   \n",
       "1                      -0.151024                -0.000325   \n",
       "2                      -0.151024                -0.000325   \n",
       "3                      -0.151024                -0.000325   \n",
       "4                      -0.003595                -0.003595   \n",
       "...                          ...                      ...   \n",
       "4741                   -0.111569                -0.004312   \n",
       "4742                   -0.111569                -0.004312   \n",
       "4743                   -0.111569                -0.004312   \n",
       "4744                   -0.182268                -0.139848   \n",
       "4745                   -0.182268                -0.139848   \n",
       "\n",
       "     ground_truth_substitute_context ground_truth_tokens_substitute_context  \\\n",
       "0                            ['138']                                ['138']   \n",
       "1                           ['1624']                               ['1624']   \n",
       "2                           ['2020']                               ['2020']   \n",
       "3                           ['1718']                               ['1718']   \n",
       "4               ['Neville Southall']                ['Neville', 'Southall']   \n",
       "...                              ...                                    ...   \n",
       "4741                        ['1889']                               ['1889']   \n",
       "4742                        ['1987']                               ['1987']   \n",
       "4743                        ['1890']                               ['1890']   \n",
       "4744              ['M. Karunanidhi']                  ['M.', 'Karunanidhi']   \n",
       "4745                     ['Deja Vu']                         ['Deja', 'Vu']   \n",
       "\n",
       "     ground_truth_token_ids_substitute_context  \\\n",
       "0                 [29871, 29896, 29941, 29947]   \n",
       "1          [29871, 29896, 29953, 29906, 29946]   \n",
       "2          [29871, 29906, 29900, 29906, 29900]   \n",
       "3          [29871, 29896, 29955, 29896, 29947]   \n",
       "4                      [2448, 4909, 4275, 497]   \n",
       "...                                        ...   \n",
       "4741       [29871, 29896, 29947, 29947, 29929]   \n",
       "4742       [29871, 29896, 29929, 29947, 29955]   \n",
       "4743       [29871, 29896, 29947, 29929, 29900]   \n",
       "4744   [341, 29889, 3467, 348, 273, 333, 2918]   \n",
       "4745                   [897, 1764, 478, 29884]   \n",
       "\n",
       "                               input_substitute_context  \\\n",
       "0     Instruction: answer the below question in an a...   \n",
       "1     Instruction: answer the below question in an a...   \n",
       "2     Instruction: answer the below question in an a...   \n",
       "3     Instruction: answer the below question in an a...   \n",
       "4     Instruction: answer the below question in an a...   \n",
       "...                                                 ...   \n",
       "4741  Instruction: answer the below question in an a...   \n",
       "4742  Instruction: answer the below question in an a...   \n",
       "4743  Instruction: answer the below question in an a...   \n",
       "4744  Instruction: answer the below question in an a...   \n",
       "4745  Instruction: answer the below question in an a...   \n",
       "\n",
       "                       decoded_ouput_substitute_context  \\\n",
       "0     Instruction: answer the below question in an a...   \n",
       "1     Instruction: answer the below question in an a...   \n",
       "2     Instruction: answer the below question in an a...   \n",
       "3     Instruction: answer the below question in an a...   \n",
       "4     Instruction: answer the below question in an a...   \n",
       "...                                                 ...   \n",
       "4741  Instruction: answer the below question in an a...   \n",
       "4742  Instruction: answer the below question in an a...   \n",
       "4743  Instruction: answer the below question in an a...   \n",
       "4744  Instruction: answer the below question in an a...   \n",
       "4745  Instruction: answer the below question in an a...   \n",
       "\n",
       "                        ouput_tokens_substitute_context  \\\n",
       "0                          ['1', '3', '8', '▁episodes']   \n",
       "1                               ['1', '6', '▁episodes']   \n",
       "2                               ['2', '0', '▁episodes']   \n",
       "3                               ['1', '7', '▁episodes']   \n",
       "4                     ['▁Ne', 'ville', '▁South', 'all']   \n",
       "...                                                 ...   \n",
       "4741  ['1', '8', '8', '9', '.', '▁according', '▁to',...   \n",
       "4742                               ['1', '9', '8', '7']   \n",
       "4743                               ['1', '8', '9', '0']   \n",
       "4744        ['▁M', '.', '▁Kar', 'un', 'an', 'id', 'hi']   \n",
       "4745                           ['▁De', 'ja', '▁V', 'u']   \n",
       "\n",
       "      output_logprob_substitute_context  ans_logprob_substitute_context  \\\n",
       "0                             -0.077568                       -0.000330   \n",
       "1                             -0.022260                       -0.002267   \n",
       "2                             -0.079561                       -0.101468   \n",
       "3                             -0.017725                       -0.004061   \n",
       "4                             -0.097392                       -0.097392   \n",
       "...                                 ...                             ...   \n",
       "4741                          -0.114705                       -0.014190   \n",
       "4742                          -0.001977                       -0.001977   \n",
       "4743                          -0.003511                       -0.003511   \n",
       "4744                          -0.052570                       -0.052570   \n",
       "4745                          -0.025670                       -0.025670   \n",
       "\n",
       "          diff  \n",
       "0    -0.000005  \n",
       "1    -0.001942  \n",
       "2    -0.101143  \n",
       "3    -0.003736  \n",
       "4    -0.093798  \n",
       "...        ...  \n",
       "4741 -0.009878  \n",
       "4742  0.002335  \n",
       "4743  0.000801  \n",
       "4744  0.087277  \n",
       "4745  0.114178  \n",
       "\n",
       "[4746 rows x 18 columns]"
      ]
     },
     "execution_count": 447,
     "metadata": {},
     "output_type": "execute_result"
    }
   ],
   "source": [
    "data"
   ]
  },
  {
   "cell_type": "code",
   "execution_count": 439,
   "id": "756d51ea",
   "metadata": {},
   "outputs": [
    {
     "data": {
      "text/plain": [
       "<Axes: xlabel='diff', ylabel='Count'>"
      ]
     },
     "execution_count": 439,
     "metadata": {},
     "output_type": "execute_result"
    },
    {
     "data": {
      "image/png": "[encoded data removed]",
      "text/plain": [
       "<Figure size 640x480 with 1 Axes>"
      ]
     },
     "metadata": {},
     "output_type": "display_data"
    }
   ],
   "source": [
    "upper, lower = data['diff'].quantile(0.98), data['diff'].quantile(0.02)\n",
    "\n",
    "sns.histplot(data[data['diff'].between(lower, upper)]['diff'])"
   ]
  },
  {
   "cell_type": "code",
   "execution_count": null,
   "id": "67338f77",
   "metadata": {},
   "outputs": [],
   "source": [
    "sns.regplot(data = data, x = 'ans_logprob_org_context', y = 'ans_logprob_substitute_context')"
   ]
  }
 ],
 "metadata": {
  "kernelspec": {
   "display_name": "Python 3 (ipykernel)",
   "language": "python",
   "name": "python3"
  },
  "language_info": {
   "codemirror_mode": {
    "name": "ipython",
    "version": 3
   },
   "file_extension": ".py",
   "mimetype": "text/x-python",
   "name": "python",
   "nbconvert_exporter": "python",
   "pygments_lexer": "ipython3",
   "version": "3.12.4"
  }
 },
 "nbformat": 4,
 "nbformat_minor": 5
}
